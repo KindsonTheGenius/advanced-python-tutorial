{
 "cells": [
  {
   "cell_type": "markdown",
   "metadata": {},
   "source": [
    "## Closures in Python\n",
    "Closure derives from nested function which is a function defined within another function\n",
    "**A Closure** is a child function that remembers variables from the parent/enclosing functioneven when those variables are not longer in the memory.\n",
    "It means that the inner function remembers variables from the outer function even when the outer function has finished executing. \n",
    "A closure is created when:\n",
    "* a function encloses another function\n",
    "* the enclosed function accessed variable from the outer function\n",
    "* the outer function returns the inner function\n",
    "* the returned function access the variables ofthe outer function after the function has exited"
   ]
  },
  {
   "cell_type": "code",
   "execution_count": 3,
   "metadata": {},
   "outputs": [
    {
     "name": "stdout",
     "output_type": "stream",
     "text": [
      "The sum is 10\n"
     ]
    }
   ],
   "source": [
    "# Example of a closure\n",
    "def sum_up(a, b):\n",
    "    def get_sum():\n",
    "        print(f\"The sum is {a + b}\")\n",
    "    return get_sum\n",
    "\n",
    "# Now here's the closure\n",
    "closure = sum_up(4,6)\n",
    "closure() # This calls the inner functin. The variables a and b are remembered even after the function has exited"
   ]
  },
  {
   "cell_type": "markdown",
   "metadata": {},
   "source": [
    "**Why Use Closure**\n",
    "* allows you to hide data\n",
    "* maintain state without using global variables"
   ]
  },
  {
   "cell_type": "code",
   "execution_count": null,
   "metadata": {},
   "outputs": [],
   "source": []
  }
 ],
 "metadata": {
  "kernelspec": {
   "display_name": ".venv",
   "language": "python",
   "name": "python3"
  },
  "language_info": {
   "codemirror_mode": {
    "name": "ipython",
    "version": 3
   },
   "file_extension": ".py",
   "mimetype": "text/x-python",
   "name": "python",
   "nbconvert_exporter": "python",
   "pygments_lexer": "ipython3",
   "version": "3.12.6"
  }
 },
 "nbformat": 4,
 "nbformat_minor": 2
}
