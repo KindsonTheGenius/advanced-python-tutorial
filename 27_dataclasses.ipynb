{
 "cells": [
  {
   "cell_type": "markdown",
   "metadata": {},
   "source": [
    "## DataClasses\n",
    "Dataclasses in Python are used to simplfy the cration of classes designed to primarily store data. \n",
    "It reduce boilerplate code by automatcally generating special method such as `__init__`, `__repr__`, `__eq__` and others based on the class attributes. \\\n",
    "They can be implemented using the `@dataclass` annotation\n",
    "\n",
    "#### Key Features of Dataclasses\n",
    "* Automatic Initializaton - automatically generate the `__init__` method\n",
    "* REadable Representatin - generates a human-readable string representation \n",
    "* Comparison Methods - automatically generate `__eq__`, `__lt__`, `__gt__` and `__ge__`\n",
    "* Immutability Support - supports immutable objects by using `frozen=True` parameter\n",
    "* Default values - allows setting default value or default factories for attributes\n",
    "* Type Annotations - requires type annotations for attributes (not strictly enforced though)"
   ]
  },
  {
   "cell_type": "code",
   "execution_count": null,
   "metadata": {},
   "outputs": [
    {
     "name": "stdout",
     "output_type": "stream",
     "text": [
      "Employee(firstname='Kindson', lastname='Munonye', department='IT', hire_date=datetime.datetime(2024, 12, 2, 9, 12, 2, 704414))\n",
      "True\n"
     ]
    }
   ],
   "source": [
    "# A Simple Dataclass\n",
    "from dataclasses import dataclass\n",
    "from datetime import datetime\n",
    "\n",
    "@dataclass\n",
    "class Employee:\n",
    "    firstname: str\n",
    "    lastname: str\n",
    "    department: str\n",
    "    hire_date: datetime = datetime.now() # Default value\n",
    "\n",
    "\n",
    "e1 = Employee(\"Kindson\", \"Munonye\", \"IT\", datetime.now())\n",
    "e2 = Employee(\"Kindson\", \"Munonye\", \"IT\", datetime.now())\n",
    "\n",
    "print(e1)\n",
    "\n",
    "print(e1.__eq__(e1))"
   ]
  },
  {
   "cell_type": "markdown",
   "metadata": {},
   "source": [
    "**Default Factory** \\\n",
    "A default factory is a way to provide default values to fields in a dataclass when those fields are mutable objects (list, tuple or dictionary for example).\n",
    "This is neccessary because mutable objects like list and dictionaries should not be shared accross instances of the dataclass.\n",
    "The `default_factory` parameter of a dataclass.field() allows you to specify a function that will be used to generate a default value when the dataclass instance is created.\n"
   ]
  },
  {
   "cell_type": "code",
   "execution_count": null,
   "metadata": {},
   "outputs": [
    {
     "name": "stdout",
     "output_type": "stream",
     "text": [
      "Student(reg_no=242, full_name='Kindson Munonye', courses=['Biology', 'Chemistry'])\n",
      "Student(reg_no=382, full_name='Solace Okeke', courses=['Math'])\n"
     ]
    }
   ],
   "source": [
    "# Example of Default Factory\n",
    "from dataclasses import dataclass, field\n",
    "\n",
    "@dataclass\n",
    "class Student:\n",
    "    reg_no: int\n",
    "    full_name: str\n",
    "    courses: list = field(default_factory=list)\n",
    "\n",
    "student1 = Student(242, \"Kindson Munonye\", [])\n",
    "student2 = Student(382, \"Solace Okeke\", [])\n",
    "\n",
    "student1.courses.append('Biology')\n",
    "student2.courses.append('Math')\n",
    "student1.courses.append('Chemistry')\n",
    "\n",
    "print(student1)\n",
    "print(student2)"
   ]
  },
  {
   "cell_type": "markdown",
   "metadata": {},
   "source": [
    "In the Student class example, you see that student1 and student2 each have their own separate lists of courses as default values for the courses attribute. \\\n",
    "Without the use of default factory, both objects would have the same list if the default provided was []"
   ]
  },
  {
   "cell_type": "markdown",
   "metadata": {},
   "source": [
    "#### Immutability with `frozen=True`\n",
    "Setting the `frozen=True` makes the dataclass immutable (just like a tuple)"
   ]
  },
  {
   "cell_type": "code",
   "execution_count": null,
   "metadata": {},
   "outputs": [],
   "source": [
    "# Example of using Frozen\n",
    "@dataclass(frozen=True)\n",
    "class Location:\n",
    "    lat: float\n",
    "    lng: float\n",
    "\n",
    "location1 = Location(2.43, 4.64)\n",
    "location1.lat = 8.23 # FrozenInstanceError: cannot assign to field 'lat"
   ]
  }
 ],
 "metadata": {
  "kernelspec": {
   "display_name": ".venv",
   "language": "python",
   "name": "python3"
  },
  "language_info": {
   "codemirror_mode": {
    "name": "ipython",
    "version": 3
   },
   "file_extension": ".py",
   "mimetype": "text/x-python",
   "name": "python",
   "nbconvert_exporter": "python",
   "pygments_lexer": "ipython3",
   "version": "3.12.0"
  }
 },
 "nbformat": 4,
 "nbformat_minor": 2
}
