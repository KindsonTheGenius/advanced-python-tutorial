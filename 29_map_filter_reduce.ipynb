{
 "cells": [
  {
   "cell_type": "markdown",
   "metadata": {},
   "source": [
    "## Map, Filter and Reduce\n",
    "These are used to enhance processing of iterables.\n",
    "\n",
    "#### The map() Function\n",
    "This is used to apply a given function to every item of an iterable, such as a list or tuple and returns a map object (which is an iterator)"
   ]
  },
  {
   "cell_type": "code",
   "execution_count": 6,
   "metadata": {},
   "outputs": [
    {
     "name": "stdout",
     "output_type": "stream",
     "text": [
      "[1, 2, 3, 4, 5]\n",
      "[1, 4, 9, 16, 25]\n"
     ]
    }
   ],
   "source": [
    "# Example of map\n",
    "items = [1,2,3,4,5]\n",
    "squares = map(int, items) # we use the built-in int function\n",
    "print(list(squares))\n",
    "\n",
    "def square(x):\n",
    "    return x**2\n",
    "\n",
    "squares2 = map(square, items)\n",
    "print(list(squares2))\n"
   ]
  },
  {
   "cell_type": "code",
   "execution_count": null,
   "metadata": {},
   "outputs": [
    {
     "name": "stdout",
     "output_type": "stream",
     "text": [
      "[1, 4, 9, 16, 25]\n"
     ]
    }
   ],
   "source": [
    "# map() with lambda\n",
    "newsquares = map(lambda x: x**2, items) # returns a generator\n",
    "squareslist = list(newsquares) # extract list from generator\n",
    "print(squareslist)"
   ]
  },
  {
   "cell_type": "code",
   "execution_count": 9,
   "metadata": {},
   "outputs": [
    {
     "name": "stdout",
     "output_type": "stream",
     "text": [
      "[7, 9, 11, 13, 15]\n"
     ]
    }
   ],
   "source": [
    "# map() with multiple iterables\n",
    "list1 = [1, 2, 3, 4, 5]\n",
    "list2 = [6, 7, 8, 9, 10]\n",
    "\n",
    "newlistgenerator = map(lambda x, y: x + y, list1, list2)\n",
    "\n",
    "newlist = list(newlistgenerator)\n",
    "print(newlist)"
   ]
  },
  {
   "cell_type": "markdown",
   "metadata": {},
   "source": [
    "#### The filter() Function\n",
    "The filter() method is used to filter a sequence of items based on a criteria. It takes a function that returns a boolean and the sequence to filter. It then returns only items from the list where the the function (condition) holds true"
   ]
  },
  {
   "cell_type": "code",
   "execution_count": 17,
   "metadata": {},
   "outputs": [
    {
     "name": "stdout",
     "output_type": "stream",
     "text": [
      "[1, 3, 5, 7, 9]\n"
     ]
    }
   ],
   "source": [
    "# Return only odd numbers in a list\n",
    "list1 = list(range(1,10))\n",
    "\n",
    "oddlist = filter(lambda x: x%2 != 0, list1)\n",
    "\n",
    "print(list(oddlist))"
   ]
  },
  {
   "cell_type": "code",
   "execution_count": 19,
   "metadata": {},
   "outputs": [
    {
     "name": "stdout",
     "output_type": "stream",
     "text": [
      "[1, 3, 5, 7, 9]\n"
     ]
    }
   ],
   "source": [
    "# Using List Comprehension\n",
    "listcomp = [x for x in list1 if x%2 != 0 ]\n",
    "print(listcomp)"
   ]
  },
  {
   "cell_type": "markdown",
   "metadata": {},
   "source": [
    "#### The `reduce()` Function\n",
    "The reduce function is used to apply a particular function to all the elements of a sequence in a step by step manner. \n",
    "\n",
    "**How it Works** \\\n",
    "* First, the first two elements of the list are picked and the result is obtained\n",
    "* Next, the result with the next element of the list is evaluated and the result is updated\n",
    "* The process continues with subsequent elements untill no more elements are left in the container\n",
    "* the final result is returned and printed on the console\n"
   ]
  },
  {
   "cell_type": "code",
   "execution_count": 23,
   "metadata": {},
   "outputs": [
    {
     "name": "stdout",
     "output_type": "stream",
     "text": [
      "39\n",
      "10\n"
     ]
    }
   ],
   "source": [
    "# Use reduce to compute the sum of list elements\n",
    "import random\n",
    "import functools\n",
    "list1 = [random.randint(1,10) for _ in range(1, 10)]\n",
    "sum_ = functools.reduce(lambda res, x: x + res, list1)\n",
    "print(sum_)\n",
    "\n",
    "# Use reduce to compute the maximum element in a list\n",
    "max_ = functools.reduce(lambda res, x: x if x > res else res, list1)\n",
    "print(max_)"
   ]
  }
 ],
 "metadata": {
  "kernelspec": {
   "display_name": ".venv",
   "language": "python",
   "name": "python3"
  },
  "language_info": {
   "codemirror_mode": {
    "name": "ipython",
    "version": 3
   },
   "file_extension": ".py",
   "mimetype": "text/x-python",
   "name": "python",
   "nbconvert_exporter": "python",
   "pygments_lexer": "ipython3",
   "version": "3.12.0"
  }
 },
 "nbformat": 4,
 "nbformat_minor": 2
}
