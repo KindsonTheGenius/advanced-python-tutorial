{
 "cells": [
  {
   "cell_type": "markdown",
   "metadata": {},
   "source": [
    "### Pydantic in Python\n",
    "Pydantic is a data validation and setting management library for Python.\n",
    "It is designed to help make working with data and configuration easier and safer. It is useful when defining and validation both simple and complex dat structurs, parsing user inputs and ensuring type safety in Python applications."
   ]
  },
  {
   "cell_type": "code",
   "execution_count": 15,
   "metadata": {},
   "outputs": [],
   "source": [
    "# Defining a model\n",
    "from pydantic import BaseModel, validator, field_validator\n",
    "\n",
    "class User(BaseModel):\n",
    "    user_id: int\n",
    "    first_name: str\n",
    "    last_name: str\n",
    "    email: str\n",
    "    is_active: bool = True"
   ]
  },
  {
   "cell_type": "code",
   "execution_count": 4,
   "metadata": {},
   "outputs": [
    {
     "name": "stdout",
     "output_type": "stream",
     "text": [
      "user_id=23 first_name='Kindson' last_name='Munonye' email='mail@kindsonthegenius.com' is_active=True\n"
     ]
    }
   ],
   "source": [
    "user_data = {\n",
    "    \"user_id\": 23,\n",
    "    \"first_name\": \"Kindson\",\n",
    "    \"last_name\": \"Munonye\",\n",
    "    \"email\": \"mail@kindsonthegenius.com\",\n",
    "    \"is_active\": True\n",
    "}\n",
    "\n",
    "user = User(**user_data)\n",
    "print(user)"
   ]
  },
  {
   "cell_type": "code",
   "execution_count": 7,
   "metadata": {},
   "outputs": [],
   "source": [
    "# Pydantic performs data validation and raise a ValidationError for invalid inputs\n",
    "try:\n",
    "    user = User(user_id=34, first_name=\"Kany\", last_name=\"Muno\", email=\"mail\")\n",
    "except ValueError as e:\n",
    "    print(e)"
   ]
  },
  {
   "cell_type": "markdown",
   "metadata": {},
   "source": [
    "### Support for nested models\n",
    "Pydantic also includes support for nested models"
   ]
  },
  {
   "cell_type": "code",
   "execution_count": 18,
   "metadata": {},
   "outputs": [
    {
     "name": "stdout",
     "output_type": "stream",
     "text": [
      "reg_no=2443 full_name='Kindson Munonye' department='Computer Science' address=Address(city='Akocity', state='Imo', street_no=39)\n"
     ]
    },
    {
     "name": "stderr",
     "output_type": "stream",
     "text": [
      "/var/folders/yy/1vh5kvq51qd2c45ntv17vp840000gn/T/ipykernel_23535/2360201964.py:15: PydanticDeprecatedSince20: Pydantic V1 style `@validator` validators are deprecated. You should migrate to Pydantic V2 style `@field_validator` validators, see the migration guide for more details. Deprecated in Pydantic V2.0 to be removed in V3.0. See Pydantic V2 Migration Guide at https://errors.pydantic.dev/2.10/migration/\n",
      "  @validator(\"reg_no\")\n"
     ]
    }
   ],
   "source": [
    "# Support for nested model\n",
    "\n",
    "# Address model\n",
    "class Address(BaseModel):\n",
    "    city: str\n",
    "    state: str\n",
    "    street_no: int\n",
    "\n",
    "class Student(BaseModel):\n",
    "    reg_no: int\n",
    "    full_name: str\n",
    "    department: str\n",
    "    address: Address\n",
    "\n",
    "    @validator(\"reg_no\")\n",
    "    def check_reg_no(cls, value):\n",
    "        if len(str(value)) != 4:\n",
    "            raise ValueError('Reg no must be 4 digits long')\n",
    "        return value\n",
    "\n",
    "\n",
    "addr = Address(city=\"Akocity\", state=\"Imo\", street_no=39)\n",
    "\n",
    "student = Student(reg_no=2443, full_name=\"Kindson Munonye\", department=\"Computer Science\", address=addr)\n",
    "\n",
    "print(student)\n",
    "\n",
    "#student_json = student.model_dump_json\n",
    "#print(student_json)"
   ]
  },
  {
   "cell_type": "markdown",
   "metadata": {},
   "source": [
    "### Custom Validation\n",
    "You can also define custom validation using the @validator decorator\n",
    "You have to define this validator as a method in the model class"
   ]
  },
  {
   "cell_type": "markdown",
   "metadata": {},
   "source": [
    "#### Some use cases for Pydantic\n",
    "* API Input validation\n",
    "* Configuration Management (loading data from environment variables)\n",
    "* Data parsing - parsing data from external sources\n",
    "* Type Safe Development"
   ]
  }
 ],
 "metadata": {
  "kernelspec": {
   "display_name": ".venv",
   "language": "python",
   "name": "python3"
  },
  "language_info": {
   "codemirror_mode": {
    "name": "ipython",
    "version": 3
   },
   "file_extension": ".py",
   "mimetype": "text/x-python",
   "name": "python",
   "nbconvert_exporter": "python",
   "pygments_lexer": "ipython3",
   "version": "3.12.0"
  }
 },
 "nbformat": 4,
 "nbformat_minor": 2
}
