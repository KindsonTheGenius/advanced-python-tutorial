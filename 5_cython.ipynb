{
 "cells": [
  {
   "cell_type": "markdown",
   "metadata": {},
   "source": [
    "## Cython\n",
    "Cython is a superset of Python that allows you to write Python code with optional types annotations that can be compiled into hightly efficient C code"
   ]
  },
  {
   "cell_type": "markdown",
   "metadata": {
    "vscode": {
     "languageId": "plaintext"
    }
   },
   "source": [
    "**Features of Cython** \\\n",
    "* compiles into C code - translates Python-like code into C\n",
    "* performance boost - by compiling Python code to C, Cython improves performance\n",
    "* Seamless C integration - can be used to interfaces with existing C or C++ code\n",
    "* It does require a C compiler\n",
    "* and is a bit more complex than vanilla Python code\n"
   ]
  },
  {
   "cell_type": "markdown",
   "metadata": {},
   "source": [
    "**To use Cython** \\\n",
    "* create a file with a .pyx extension\n",
    "* write your function in the file and save\n",
    "* install cythonize and setuptools\n",
    "* compile the file into a C file using the command `cythonize -i filename.pyx`\n",
    "* in your python file import the file (without the extension)\n",
    "* you can now call a function from the file"
   ]
  },
  {
   "cell_type": "code",
   "execution_count": 3,
   "metadata": {},
   "outputs": [
    {
     "name": "stdout",
     "output_type": "stream",
     "text": [
      "1\n"
     ]
    }
   ],
   "source": [
    "import utilities.fibonacci as fibonacci\n",
    "\n",
    "result = fibonacci.fib(20)\n",
    "print(result)"
   ]
  },
  {
   "cell_type": "markdown",
   "metadata": {},
   "source": [
    "**Note** \\\n",
    "Cython is not the same as CPyton which is a distribution of Python. That is a C implementation of the Python language"
   ]
  }
 ],
 "metadata": {
  "kernelspec": {
   "display_name": ".venv",
   "language": "python",
   "name": "python3"
  },
  "language_info": {
   "codemirror_mode": {
    "name": "ipython",
    "version": 3
   },
   "file_extension": ".py",
   "mimetype": "text/x-python",
   "name": "python",
   "nbconvert_exporter": "python",
   "pygments_lexer": "ipython3",
   "version": "3.12.6"
  }
 },
 "nbformat": 4,
 "nbformat_minor": 2
}
