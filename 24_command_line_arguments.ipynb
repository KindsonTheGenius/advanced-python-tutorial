{
 "cells": [
  {
   "cell_type": "markdown",
   "metadata": {},
   "source": [
    "## Command Line Arguments in Python\n",
    "Command line arguments are parameters that are passed to the Python script when it is executed.\n",
    "They make it possible for the script to perform different actions based on the inputs provided by the user without modifying  the code \\\n",
    "Some of the Python provided tools for handling command-line arguments include:\n",
    "* sys.argv from the `sys` module \\\n",
    "\n",
    "#### Using `sys.argv`\n",
    "* sys.argv contains a list of command line arguments passed to the script\n",
    "* the first element is the script's filename\n",
    "* subsequent elements are the additional arguments passed to the script \\"
   ]
  }
 ],
 "metadata": {
  "language_info": {
   "name": "python"
  }
 },
 "nbformat": 4,
 "nbformat_minor": 2
}
