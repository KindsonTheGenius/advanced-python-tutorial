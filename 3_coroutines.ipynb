{
 "cells": [
  {
   "cell_type": "markdown",
   "metadata": {},
   "source": [
    "## Coroutines\n",
    "These are funtions that can suspend it's execution before reaching return and can also indirectly pass control to another coroutine for some time\n",
    "A coroutine is defined using the async def\n"
   ]
  },
  {
   "cell_type": "code",
   "execution_count": 1,
   "metadata": {},
   "outputs": [],
   "source": [
    "# Example of a simple coroutine\n",
    "import asyncio\n",
    "\n",
    "\n",
    "async def my_async_function():\n",
    "    print(\"Start of the function\")\n",
    "    await asyncio.sleep(1)\n",
    "    print(\"End of coroutine\")"
   ]
  },
  {
   "cell_type": "code",
   "execution_count": 2,
   "metadata": {},
   "outputs": [],
   "source": [
    "async def main():\n",
    "    await my_async_function()"
   ]
  },
  {
   "cell_type": "code",
   "execution_count": 3,
   "metadata": {},
   "outputs": [
    {
     "name": "stdout",
     "output_type": "stream",
     "text": [
      "Start of the function\n",
      "End of coroutine\n"
     ]
    }
   ],
   "source": [
    "await main()"
   ]
  },
  {
   "cell_type": "markdown",
   "metadata": {},
   "source": [
    "### Running Multiple Coroutines\n",
    "You can run multiple asynchronous tasks concurrently using asyncio.gather or asyncio.create_task"
   ]
  },
  {
   "cell_type": "code",
   "execution_count": 4,
   "metadata": {},
   "outputs": [],
   "source": [
    "# Running multiple coroutines\n",
    "async def welcome():\n",
    "    print(\"Welcome\")\n",
    "    await asyncio.sleep(1) # here the thread sleeps, but execution will continue at the next coroutine\n",
    "    print(\"This is the first coroutine\")\n",
    "\n",
    "async def goodbye():\n",
    "    print(\"This is the second coroutine\")\n",
    "    await asyncio.sleep(1)\n",
    "    print(\"Goodbye!\")"
   ]
  },
  {
   "cell_type": "code",
   "execution_count": 5,
   "metadata": {},
   "outputs": [],
   "source": [
    "async def main():\n",
    "    asyncio.gather(welcome(), goodbye())"
   ]
  },
  {
   "cell_type": "code",
   "execution_count": 6,
   "metadata": {},
   "outputs": [
    {
     "name": "stdout",
     "output_type": "stream",
     "text": [
      "Welcome\n",
      "This is the second coroutine\n"
     ]
    },
    {
     "name": "stdout",
     "output_type": "stream",
     "text": [
      "This is the first coroutine\n",
      "Goodbye!\n"
     ]
    }
   ],
   "source": [
    "await main()"
   ]
  },
  {
   "cell_type": "markdown",
   "metadata": {},
   "source": [
    "### Using asyncio.create_task\n",
    "With this, you'll be able to schedule tasks and continue executing other codes"
   ]
  },
  {
   "cell_type": "code",
   "execution_count": 7,
   "metadata": {},
   "outputs": [],
   "source": [
    "# Example of using asyncio.create_task\n",
    "import asyncio\n",
    "\n",
    "\n",
    "async def task(name, delay):\n",
    "    print(f\"Task {name}: Start\")\n",
    "    await asyncio.sleep(1)\n",
    "    print(f\"Task {name}: End\")\n",
    "\n",
    "async def main():\n",
    "    task_a = asyncio.create_task(task(\"A\", 2))\n",
    "    task_b = asyncio.create_task(task(\"B\", 2))\n",
    "\n",
    "    # Start both tasks\n",
    "    print(\"Both tasks started...\")\n",
    "    await task_a\n",
    "    await task_b"
   ]
  },
  {
   "cell_type": "code",
   "execution_count": 8,
   "metadata": {},
   "outputs": [
    {
     "name": "stdout",
     "output_type": "stream",
     "text": [
      "Both tasks started...\n",
      "Task A: Start\n",
      "Task B: Start\n",
      "Task A: End\n",
      "Task B: End\n"
     ]
    }
   ],
   "source": [
    "await main()"
   ]
  },
  {
   "cell_type": "markdown",
   "metadata": {},
   "source": [
    "### Fetching Data from an API"
   ]
  },
  {
   "cell_type": "code",
   "execution_count": null,
   "metadata": {},
   "outputs": [],
   "source": [
    "# Fetching data from an API\n",
    "\n",
    "import asyncio\n",
    "import aiohttp\n",
    "\n",
    "async def fetch_url(url):\n",
    "    async with aiohttp.ClientSession as session:\n",
    "        async with session.get(url) as response:\n",
    "            print(f\"Fetched {url} wotj status {response.status}\")\n",
    "            return await response.text()\n",
    "\n",
    "async def main():\n",
    "    urls = [\n",
    "        \"https://example.com\",\n",
    "        \"https://httpbin.org/get\",\n",
    "        \"https://jsonplaceholder.typicode.com/posts/1\"\n",
    "    ]\n",
    "\n",
    "    tasks = [fetch_url(url) for url in urls]\n",
    "    responses = await asyncio.gather(*tasks)\n",
    "    print(\"All tasks completed\")\n",
    "\n",
    "await main()\n",
    "\n"
   ]
  }
 ],
 "metadata": {
  "kernelspec": {
   "display_name": ".venv",
   "language": "python",
   "name": "python3"
  },
  "language_info": {
   "codemirror_mode": {
    "name": "ipython",
    "version": 3
   },
   "file_extension": ".py",
   "mimetype": "text/x-python",
   "name": "python",
   "nbconvert_exporter": "python",
   "pygments_lexer": "ipython3",
   "version": "3.12.6"
  }
 },
 "nbformat": 4,
 "nbformat_minor": 2
}
