{
 "cells": [
  {
   "cell_type": "markdown",
   "metadata": {},
   "source": [
    "## The Python Compilation Process\n",
    "The compilation process in Python involves steps including parsing, bytecode generation and execution by the Pythe Virtual Machine(PVM)\n",
    "\n",
    "**Step 1 - Source Code** \\\n",
    "Python code is written in a .py file as human-readable source-code.\n",
    "Example of source code:\n",
    "\n",
    "**Step 2 - Lexical Analysis** \\\n",
    "In the Python Lexical Analysis phase, the source is broken down into tokens Tokens are the smallest meaningful components of the code, such as:\n",
    "* Keywords\n",
    "* Identifiers\n",
    "* Operators\n",
    "* Delimiters \\\n",
    "This phase ensures that the source code adheres to Python's syntax rules\n",
    "\n",
    "**Step 3 - Parsing** \\\n",
    "The tokens are then fed into the parser, which checks the syntactical structure of the code. It organizes the tokens into a tree-like structure called the Abstract Syntax Tree(AST).\n",
    "\n",
    "\n",
    "**Step 4 - Compilation to Bytecode** \\\n",
    "The AST is then converted into Python Bytecode, an intermediated, platform-independent representatio of the code. Bytecode is a low-level set of instructions understood by Python Virtual Machine(PVM)\n",
    "* Bytecode files are stored with a .pyc extension inside the __pycache__ directory\n",
    "* Bytecode is generated automatically when you run a Python script, or it can be precompiled using compile() or py_compile\n",
    "\n",
    "\n",
    "**Step 5 - Python Virtual Machine** \\\n",
    "The PVM executes the bytecode. It is a stack-based interpreter that processes the bytecode instructions line by line. The PVM performs operations like variable assignments, function calls, and arithmetic based on the bytcode instructions.\n"
   ]
  },
  {
   "cell_type": "markdown",
   "metadata": {},
   "source": [
    "#### Tools for Exploring the Compilation Process\n",
    "* `ast` Module for inspecting and manipulating the AST\n",
    "* `dis` Module for disembling Python bytecode into human-readable instrutions\n",
    "* `py_compile` Module for compiling Python code into bytecode"
   ]
  },
  {
   "cell_type": "code",
   "execution_count": 2,
   "metadata": {},
   "outputs": [
    {
     "name": "stdout",
     "output_type": "stream",
     "text": [
      "Module(\n",
      "    body=[\n",
      "        Assign(\n",
      "            targets=[\n",
      "                Name(id='x', ctx=Store())],\n",
      "            value=BinOp(\n",
      "                left=Constant(value=3),\n",
      "                op=Add(),\n",
      "                right=Constant(value=4))),\n",
      "        Assign(\n",
      "            targets=[\n",
      "                Name(id='y', ctx=Store())],\n",
      "            value=BinOp(\n",
      "                left=Name(id='x', ctx=Load()),\n",
      "                op=Mult(),\n",
      "                right=Constant(value=2)))],\n",
      "    type_ignores=[])\n"
     ]
    }
   ],
   "source": [
    "# Using the ast module\n",
    "import ast\n",
    "source_code = \"\"\"\n",
    "x = 3 + 4\n",
    "y = x * 2\n",
    "\"\"\"\n",
    "\n",
    "ast_tree = ast.parse(source_code)\n",
    "\n",
    "print(ast.dump(ast_tree, indent=4))"
   ]
  },
  {
   "cell_type": "code",
   "execution_count": 3,
   "metadata": {},
   "outputs": [
    {
     "name": "stdout",
     "output_type": "stream",
     "text": [
      "  0           0 RESUME                   0\n",
      "\n",
      "  1           2 LOAD_CONST               0 (9)\n",
      "              4 STORE_NAME               0 (x)\n",
      "              6 RETURN_CONST             1 (None)\n"
     ]
    }
   ],
   "source": [
    "# Using the dis module\n",
    "import dis\n",
    "dis.dis(\"x = 4 + 5\")"
   ]
  },
  {
   "cell_type": "code",
   "execution_count": 5,
   "metadata": {},
   "outputs": [
    {
     "data": {
      "text/plain": [
       "'__pycache__/script.cpython-312.pyc'"
      ]
     },
     "execution_count": 5,
     "metadata": {},
     "output_type": "execute_result"
    }
   ],
   "source": [
    "# using the py_compile module\n",
    "import py_compile\n",
    "py_compile.compile('script.py')"
   ]
  }
 ],
 "metadata": {
  "kernelspec": {
   "display_name": ".venv",
   "language": "python",
   "name": "python3"
  },
  "language_info": {
   "codemirror_mode": {
    "name": "ipython",
    "version": 3
   },
   "file_extension": ".py",
   "mimetype": "text/x-python",
   "name": "python",
   "nbconvert_exporter": "python",
   "pygments_lexer": "ipython3",
   "version": "3.12.0"
  }
 },
 "nbformat": 4,
 "nbformat_minor": 2
}
