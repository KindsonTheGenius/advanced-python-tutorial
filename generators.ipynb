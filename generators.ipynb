{
 "cells": [
  {
   "cell_type": "markdown",
   "metadata": {},
   "source": [
    "## Generators in Python\n",
    "A generator in Python is a special type of iterable that allows you to generate values one at a time instead of storing all of them in memory at once.\n",
    "Generators are functions are return an iterable using the yeild keyword.\n",
    "Since generators produce values on the fly, they are more memory efficient than list especially when handling large datasets. \\\n",
    "\n",
    "**Defining a Generator**\n",
    "Generators are defined using a function with the yeild keyword.\n",
    "Unlike normal function that uses a return statement, generators pauses when it yeilds a value an can be resumed from where it left off."
   ]
  },
  {
   "cell_type": "code",
   "execution_count": 2,
   "metadata": {},
   "outputs": [
    {
     "name": "stdout",
     "output_type": "stream",
     "text": [
      "1\n"
     ]
    }
   ],
   "source": [
    "# Basic Generator function\n",
    "def generator_1():\n",
    "    yield 1\n",
    "    yield 2\n",
    "    yield 3\n",
    "\n",
    "gen = generator_1()\n",
    "print(next(gen))"
   ]
  },
  {
   "cell_type": "code",
   "execution_count": 6,
   "metadata": {},
   "outputs": [],
   "source": [
    "# Generating a large sequence\n",
    "def generate_numbers(n):\n",
    "    for i in range(n):\n",
    "        yield i"
   ]
  },
  {
   "cell_type": "code",
   "execution_count": null,
   "metadata": {},
   "outputs": [],
   "source": [
    "gen_object = generate_numbers(100)\n",
    "for num in gen_object:\n",
    "    print(num)"
   ]
  },
  {
   "cell_type": "markdown",
   "metadata": {},
   "source": [
    "### Properties of Generators\n",
    "* low memory usage since values are generated on the fly\n",
    "* one time use\n",
    "* faster for large datasets\n",
    "* similar to list comprehension but are created using ()"
   ]
  }
 ],
 "metadata": {
  "kernelspec": {
   "display_name": ".venv",
   "language": "python",
   "name": "python3"
  },
  "language_info": {
   "codemirror_mode": {
    "name": "ipython",
    "version": 3
   },
   "file_extension": ".py",
   "mimetype": "text/x-python",
   "name": "python",
   "nbconvert_exporter": "python",
   "pygments_lexer": "ipython3",
   "version": "3.12.6"
  }
 },
 "nbformat": 4,
 "nbformat_minor": 2
}
