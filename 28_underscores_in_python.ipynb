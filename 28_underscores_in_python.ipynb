{
 "cells": [
  {
   "cell_type": "markdown",
   "metadata": {},
   "source": [
    "## Underscores in Python\n",
    "\n",
    "**Single Leading Underscore (_var)** \\\n",
    "This indicates that a variable or method is intended for internal use only.\n",
    "It's not enforced but it's a best practice that tells other developer that the variable or method is private\n",
    "\n",
    "**Single Trailing Underscore (var_)** \\\n",
    "A single trailing underscore is used to avoid naming conflicts with Python's built-in keywords or function names."
   ]
  },
  {
   "cell_type": "markdown",
   "metadata": {},
   "source": [
    "**Double Leading Underscore (__var)**\n",
    "This triggers name mangling, where the interpreter modifies the name of the variable to include the class name making it harder to accidentally override in subclasses"
   ]
  },
  {
   "cell_type": "markdown",
   "metadata": {},
   "source": [
    "**Double Leading and Trailing Underscors (__var__)**\n",
    "Names with double underscores on both sides are special methods or variables (also known as magic methods or dunder methods)\n",
    "They are used for special purposes in Pyton and should not be defined arbitrarily. \\\n",
    "Examples include:\n",
    "* __init__, __str__, __add__\n",
    "*__name__, __file__"
   ]
  },
  {
   "cell_type": "markdown",
   "metadata": {},
   "source": [
    "**Single Underscore as a Throwaway Variable**\n",
    "In Python, the single underscore is commonly used as a \"throwaway\" variable when you don't need to use a value."
   ]
  },
  {
   "cell_type": "code",
   "execution_count": null,
   "metadata": {},
   "outputs": [
    {
     "name": "stdout",
     "output_type": "stream",
     "text": [
      "Hello!\n",
      "Hello!\n",
      "Hello!\n",
      "Hello!\n",
      "Hello!\n",
      "1 3\n",
      "10023\n"
     ]
    }
   ],
   "source": [
    "# Example of throwaway variable\n",
    "for _ in range(5):\n",
    "    print(\"Hello!\")\n",
    "\n",
    "# Unpacking example\n",
    "x, _, z = (1, 2, 3)\n",
    "print(x,z)\n",
    "\n",
    "# In numeric literals, has no effect\n",
    "print(100_23)"
   ]
  }
 ],
 "metadata": {
  "kernelspec": {
   "display_name": ".venv",
   "language": "python",
   "name": "python3"
  },
  "language_info": {
   "codemirror_mode": {
    "name": "ipython",
    "version": 3
   },
   "file_extension": ".py",
   "mimetype": "text/x-python",
   "name": "python",
   "nbconvert_exporter": "python",
   "pygments_lexer": "ipython3",
   "version": "3.12.0"
  }
 },
 "nbformat": 4,
 "nbformat_minor": 2
}
