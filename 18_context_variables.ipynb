{
 "cells": [
  {
   "cell_type": "markdown",
   "metadata": {},
   "source": [
    "## Context Variables\n",
    "Context variables allow you to manage state that is specific to a particular context such as a thread or an asynchronous task\n",
    "\n",
    "**Benefits of Context Variable** \\ \n",
    "* regular variables are shared between threads and asynchronous task, which can lead to race condition\n",
    "* context variables provide thread-local or task-local storage for maintaining state"
   ]
  },
  {
   "cell_type": "code",
   "execution_count": null,
   "metadata": {},
   "outputs": [
    {
     "name": "stdout",
     "output_type": "stream",
     "text": [
      "default_value\n"
     ]
    }
   ],
   "source": [
    "# Using the contextvars Module\n",
    "from contextvars import ContextVar\n",
    "\n",
    "var = ContextVar(\"var\", default=\"default_value\")\n",
    "print(var.get())\n",
    "\n",
    "# Setting a value\n",
    "token = var.set(\"new_value\")\n",
    "print(var.get())\n",
    "\n",
    "# Resetting a value\n",
    "var.reset(token)\n",
    "print(var.get())"
   ]
  },
  {
   "cell_type": "markdown",
   "metadata": {},
   "source": [
    "#### Context Variables and Asynchronous Tasks\n",
    "Context variables are especially useful in asynchronous programming to maintain state accross task.\n"
   ]
  },
  {
   "cell_type": "code",
   "execution_count": 2,
   "metadata": {},
   "outputs": [
    {
     "name": "stdout",
     "output_type": "stream",
     "text": [
      "Task A: Value A\n",
      "Task B: Value B\n"
     ]
    }
   ],
   "source": [
    "import asyncio\n",
    "from contextvars import ContextVar\n",
    "\n",
    "var = ContextVar(\"var\", default=\"default_value\")\n",
    "\n",
    "async def task(name, value):\n",
    "    var.set(value)\n",
    "    print(f\"Task {name}: {var.get()}\")\n",
    "\n",
    "async def main():\n",
    "    await asyncio.gather(task(\"A\", \"Value A\"), task(\"B\", \"Value B\"))\n",
    "\n",
    "await main()"
   ]
  }
 ],
 "metadata": {
  "kernelspec": {
   "display_name": ".venv",
   "language": "python",
   "name": "python3"
  },
  "language_info": {
   "codemirror_mode": {
    "name": "ipython",
    "version": 3
   },
   "file_extension": ".py",
   "mimetype": "text/x-python",
   "name": "python",
   "nbconvert_exporter": "python",
   "pygments_lexer": "ipython3",
   "version": "3.12.0"
  }
 },
 "nbformat": 4,
 "nbformat_minor": 2
}
