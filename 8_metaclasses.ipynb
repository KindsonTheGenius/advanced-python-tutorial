{
 "cells": [
  {
   "cell_type": "markdown",
   "metadata": {},
   "source": [
    "## Metaclasses in Python\n",
    "A metaclass is a class that allows other classes to be instantiated as objects of the metaclass.\n",
    "For example, if we create a class in Python, this is an instance of class. Therefore the type class in Python is a metaclass."
   ]
  },
  {
   "cell_type": "code",
   "execution_count": 3,
   "metadata": {},
   "outputs": [
    {
     "name": "stdout",
     "output_type": "stream",
     "text": [
      "<class 'str'>\n",
      "<class 'type'>\n",
      "<class 'function'>\n",
      "<class 'type'>\n"
     ]
    }
   ],
   "source": [
    "# to illustrates that python types belongs to the type class (or to the class, type)\n",
    "print('a'.__class__)\n",
    "print('a'.__class__.__class__)\n",
    "\n",
    "def myfunc():\n",
    "    print('foo')\n",
    "\n",
    "print(myfunc.__class__)\n",
    "print(bool.__class__)"
   ]
  },
  {
   "cell_type": "markdown",
   "metadata": {},
   "source": [
    "**Benefits of Metaclasses**\n",
    "* can manipulate classes or control how classes are created\n",
    "* could be used to enforce patterns such as singleton pattern\n",
    "* adding attributes and methods automatically\n",
    "* used for framework, libraries and complex projects\n"
   ]
  },
  {
   "cell_type": "code",
   "execution_count": 5,
   "metadata": {},
   "outputs": [
    {
     "data": {
      "text/plain": [
       "'Hello from metaclass!'"
      ]
     },
     "execution_count": 5,
     "metadata": {},
     "output_type": "execute_result"
    }
   ],
   "source": [
    "# An example of a Metaclass that adds a method to any class that uses it\n",
    "class MyMetaclass(type):\n",
    "    def __new__(cls, name, bases, class_dict):\n",
    "        class_dict['show'] = lambda self: \"Hello from metaclass!\"\n",
    "        return super().__new__(cls, name, bases, class_dict)\n",
    "    \n",
    "\n",
    "# A class that uses the Metaclass\n",
    "class MyClass(metaclass=MyMetaclass):\n",
    "    pass\n",
    "\n",
    "# Creating an instance and calling the show method\n",
    "inst = MyClass()\n",
    "inst.show()\n"
   ]
  },
  {
   "cell_type": "markdown",
   "metadata": {},
   "source": [
    "**How it Works**\n",
    "- Python collects the methods and class attributes defined in the class body\n",
    "- It checks if the class has a Metaclass and if it does, the metaclass takes control of class creation\n",
    "- The metaclass can then modify the class, adding attributes, methods etc\n",
    "- You can now instantiate your class."
   ]
  }
 ],
 "metadata": {
  "kernelspec": {
   "display_name": "Python 3",
   "language": "python",
   "name": "python3"
  },
  "language_info": {
   "codemirror_mode": {
    "name": "ipython",
    "version": 3
   },
   "file_extension": ".py",
   "mimetype": "text/x-python",
   "name": "python",
   "nbconvert_exporter": "python",
   "pygments_lexer": "ipython3",
   "version": "3.11.10"
  }
 },
 "nbformat": 4,
 "nbformat_minor": 2
}
