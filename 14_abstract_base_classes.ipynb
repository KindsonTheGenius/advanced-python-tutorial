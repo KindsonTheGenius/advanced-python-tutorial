{
 "cells": [
  {
   "cell_type": "markdown",
   "metadata": {},
   "source": [
    "## Abstract Base Classes\n",
    "Abstract Base Classes provides a way of defining commong interfaces for a set of subclasses in Python. They serve as templates that enforce certain methods and properties to be implemented in classes that are derived from the base class\n",
    "They are defined in the `abc` module and help to provide consistent interface accross unrelated classes.\n",
    "\n",
    "**Abstract Class** \\\n",
    "* cannot be instantiated\n",
    "* serves as a template for creating other classes\n",
    "* contains abstract methods\n",
    "\\\n",
    "**Abstract Method** \\\n",
    "* declared in the abstract base class and must be implemented in the derived classes\n",
    "* defined using the `@abstractmethod` decorator\n"
   ]
  },
  {
   "cell_type": "code",
   "execution_count": 6,
   "metadata": {},
   "outputs": [
    {
     "name": "stdout",
     "output_type": "stream",
     "text": [
      "6.0\n",
      "24\n"
     ]
    }
   ],
   "source": [
    "# Example of Abstract Base Class\n",
    "from abc import ABC, abstractmethod\n",
    "\n",
    "class Shape(ABC):\n",
    "    @abstractmethod\n",
    "    def area(self):\n",
    "        \"\"\"logic to calculate area of shape\"\"\"\n",
    "        pass\n",
    "\n",
    "    def perimeter(self):\n",
    "        \"\"\"\"calculate the perimeter of a shape\"\"\"\n",
    "        pass\n",
    "\n",
    "\n",
    "# A class that implements the abstract base class Shape\n",
    "class Triangle(Shape):\n",
    "\n",
    "    def __init__(self, base, height):\n",
    "        self.base = base\n",
    "        self.height = height\n",
    "\n",
    "    def area(self):\n",
    "        return 1/2 * self.base * self.height\n",
    "\n",
    "    def perimeter(self):\n",
    "        return 2 * self.base * self.height\n",
    "\n",
    "\n",
    "t = Triangle(3,4)\n",
    "print(t.area())\n",
    "print(t.perimeter())\n"
   ]
  },
  {
   "cell_type": "markdown",
   "metadata": {},
   "source": [
    "### Additional ABC Concepts\n",
    "* optional concrete methods - an abc can also include methods with concrete implementations which subclasses will inherit by default\n",
    "* type checking - ABCs can also be used for type checking with `isinstance` or `issubclass`\n",
    "* built-in ABCs - Python also provides a set of built-in abstract base classe inthe collections.Sequence module \\\n",
    "Some examples of built-in abc are given below"
   ]
  },
  {
   "cell_type": "code",
   "execution_count": 9,
   "metadata": {},
   "outputs": [
    {
     "name": "stdout",
     "output_type": "stream",
     "text": [
      "3\n"
     ]
    }
   ],
   "source": [
    "# The Sequence abc\n",
    "from collections.abc import Sequence\n",
    "\n",
    "# You need to implement the __getitem__ and __len__\n",
    "class MySequence(Sequence):\n",
    "    def __init__(self, items):\n",
    "        self.items = items\n",
    "\n",
    "    def __getitem__(self, key):\n",
    "        return self.item[key]\n",
    "    \n",
    "    def __len__(self):\n",
    "        return len(self.items)\n",
    "\n",
    "seq = MySequence([1,2,3])\n",
    "print(seq.__len__())"
   ]
  }
 ],
 "metadata": {
  "kernelspec": {
   "display_name": ".venv",
   "language": "python",
   "name": "python3"
  },
  "language_info": {
   "codemirror_mode": {
    "name": "ipython",
    "version": 3
   },
   "file_extension": ".py",
   "mimetype": "text/x-python",
   "name": "python",
   "nbconvert_exporter": "python",
   "pygments_lexer": "ipython3",
   "version": "3.12.0"
  }
 },
 "nbformat": 4,
 "nbformat_minor": 2
}
