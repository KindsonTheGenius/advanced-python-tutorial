{
 "cells": [
  {
   "cell_type": "markdown",
   "metadata": {},
   "source": [
    "## Context Manager/ Context Management in Python **\n",
    "This is a mechanism used to manage resources more efficiently ensuring that they are properly acquired and released.\n",
    "It is implemented using context managers along with the `with` statement\n",
    "\n",
    "**Context Manager** \\\n",
    "These are objects that define the runtime context of a block of code. Ther are implemented using \\\n",
    "* __enter__(): runs when context is entered \n",
    "* __exit__(): runs when context is exited\n",
    "\n",
    "**with Statement** \\\n",
    "* Simplifies resource management by automatically call the context managers __enter__ and __exit__ methods\n",
    "* Ensures proper resource cleanup such as closing a file or releasing a lock"
   ]
  },
  {
   "cell_type": "code",
   "execution_count": null,
   "metadata": {},
   "outputs": [],
   "source": [
    "# Example of using with statement\n",
    "with open('myfile.txt', 'r') as file:\n",
    "    content = file.read()\n",
    "\n",
    "# Here we don't need to explicitly call file.close method"
   ]
  },
  {
   "cell_type": "markdown",
   "metadata": {},
   "source": [
    "#### Custom Context Managers\n",
    "You can create your own context managers by defining the __enter__ and __exit__ methods in a class\n"
   ]
  },
  {
   "cell_type": "code",
   "execution_count": 3,
   "metadata": {},
   "outputs": [
    {
     "name": "stdout",
     "output_type": "stream",
     "text": [
      "Entering the context\n",
      "Inside the context\n",
      "Exiting the context\n",
      "An exception occured: An exception that occurred\n"
     ]
    }
   ],
   "source": [
    "# Custom context manager\n",
    "class MyContextManager:\n",
    "    def __enter__(self):\n",
    "        print('Entering the context')\n",
    "        return self\n",
    "\n",
    "    def __exit__(self, exc_type, exc_value, traceback):\n",
    "        print('Exiting the context')\n",
    "        if exc_type:\n",
    "            print(f'An exception occured: {exc_value}')\n",
    "        return True\n",
    "    \n",
    "# Using the context manager\n",
    "with MyContextManager() as cm:\n",
    "    print('Inside the context')\n",
    "    raise ValueError('An exception that occurred')"
   ]
  }
 ],
 "metadata": {
  "kernelspec": {
   "display_name": "Python 3",
   "language": "python",
   "name": "python3"
  },
  "language_info": {
   "codemirror_mode": {
    "name": "ipython",
    "version": 3
   },
   "file_extension": ".py",
   "mimetype": "text/x-python",
   "name": "python",
   "nbconvert_exporter": "python",
   "pygments_lexer": "ipython3",
   "version": "3.11.10"
  }
 },
 "nbformat": 4,
 "nbformat_minor": 2
}
