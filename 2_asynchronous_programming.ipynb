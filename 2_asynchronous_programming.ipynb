{
 "cells": [
  {
   "cell_type": "markdown",
   "metadata": {},
   "source": [
    "## Asynchronous Programming in Python\n",
    "This allows you to perform non-blocking operations. Ideal for tasks like handling IO operations, network requests or any operation wher waiting for external resource can cause delays. \\\n",
    "\n",
    "**async, await, coroutine, event loop, tasks and futures** \\\n",
    "* **async** marks a function as asynchronous meaning it can be paused and resumed\n",
    "* **await** is used to pause execution in an async function untill the awaited task is completed\n",
    "* **Coroutine** - function defined with async def\n",
    "* **Event Loop** - managed by asyncio module and cordinates and schedules asynchronous tasks \\"
   ]
  },
  {
   "cell_type": "code",
   "execution_count": 1,
   "metadata": {},
   "outputs": [],
   "source": [
    "# Example of a basic coroutine\n",
    "import asyncio\n",
    "\n",
    "\n",
    "async def my_coroutine():\n",
    "    print(\"Coroutine started\")\n",
    "    await asyncio.sleep(1)\n",
    "    print(\"Coroutine completed\")\n"
   ]
  },
  {
   "cell_type": "code",
   "execution_count": 2,
   "metadata": {},
   "outputs": [],
   "source": [
    "async def main():\n",
    "    await my_coroutine()\n"
   ]
  },
  {
   "cell_type": "code",
   "execution_count": 3,
   "metadata": {},
   "outputs": [
    {
     "name": "stdout",
     "output_type": "stream",
     "text": [
      "Coroutine started\n",
      "Coroutine completed\n"
     ]
    }
   ],
   "source": [
    "await main()"
   ]
  }
 ],
 "metadata": {
  "kernelspec": {
   "display_name": ".venv",
   "language": "python",
   "name": "python3"
  },
  "language_info": {
   "codemirror_mode": {
    "name": "ipython",
    "version": 3
   },
   "file_extension": ".py",
   "mimetype": "text/x-python",
   "name": "python",
   "nbconvert_exporter": "python",
   "pygments_lexer": "ipython3",
   "version": "3.12.0"
  }
 },
 "nbformat": 4,
 "nbformat_minor": 2
}
