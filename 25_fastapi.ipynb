{
 "cells": [
  {
   "cell_type": "markdown",
   "metadata": {},
   "source": [
    "## FastAPI\n",
    "FastAPI is a modern fast (high-performance), web framework for building APIs with Python based on Starlette and Pydantic \\\n",
    "\n",
    "Key features include:\n",
    "\n",
    "**High Performance** \\\n",
    "Build on ASGI (Asynchronous Server Gateway Interface), leveraging Starlette for high-speed HTTP request and WebSocket support\n",
    "\n",
    "**Automatic Interactive API Documentation**  \\\n",
    "* Provides auto-generated interactive API docs using Swagger UI and ReDoc based on OpenAPI standards\n",
    "* Docs are available at /docs  and /redoc\n",
    "\n",
    "**Type Hints for Data Validation** \\\n",
    "* Uses Python type hints for input data validation and parsing via Pydantic\n",
    "* Ensures that requests and response data are validated automatically\n",
    "\n",
    "**Asynchronous Capabilities** \\\n",
    "* Fully supports asynchronous programming\n",
    "\n",
    "**Ease of Use** \\\n",
    "* Developer-friendly with minimal boilerplate code\n",
    "* Compatible with standard Python tools and libraries\n",
    "\n",
    "**Dependency Injection** \\\n",
    "* Built-in dependency injection system for managing resources such as database connections, security or shared configurations\n",
    "\n",
    "**Standards-Based**\n",
    "* Follows the OpenAPI Specification and JSON Schema"
   ]
  },
  {
   "cell_type": "markdown",
   "metadata": {},
   "source": [
    "#### Core Concepts of FastAPI\n",
    "**Path Operations** \\\n",
    "* api routes are defined using decorators such as @app.get, @app.post, @app.put etc\n",
    "* path parameters, qeury parameters and request bodies are inferred from function definitions\n",
    "\n",
    "**Request and Response Models** \\\n",
    "* Use Pydantic models for data validation and serialization\n",
    "\n",
    "**Dependency Injection** \\\n",
    "Define resulable dependencies for common functionalities"
   ]
  },
  {
   "cell_type": "code",
   "execution_count": null,
   "metadata": {},
   "outputs": [],
   "source": []
  }
 ],
 "metadata": {
  "kernelspec": {
   "display_name": ".venv",
   "language": "python",
   "name": "python3"
  },
  "language_info": {
   "codemirror_mode": {
    "name": "ipython",
    "version": 3
   },
   "file_extension": ".py",
   "mimetype": "text/x-python",
   "name": "python",
   "nbconvert_exporter": "python",
   "pygments_lexer": "ipython3",
   "version": "3.12.0"
  }
 },
 "nbformat": 4,
 "nbformat_minor": 2
}
