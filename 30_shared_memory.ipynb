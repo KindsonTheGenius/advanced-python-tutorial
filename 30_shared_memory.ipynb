{
 "cells": [
  {
   "cell_type": "markdown",
   "metadata": {},
   "source": [
    "## Shared Memory in Python\n",
    "Shared Memory in Python is a technique that allows multiple processes to access the same memory space, enabling efficient inter-process communication (IPC). \n",
    "Python provides tools for shared memory mainly through the `multiprocessing` module and its submodule `multiprocessing.shared_memory`. These tools enable dat sharing between processes without the need for serilization or pipes.\n",
    "\n",
    "#### Key Concepts\n",
    "* multiprocessing.shared_memory.SharedMemory - provides a way to create and manage shared memory blocks\n",
    "* Synchronization - race conditions need to be managed by using synchronizationprimitives like `Lock` or `Semaphore`\n",
    "* Array and Value - for simple data sharing, you can use `multiprocessing.Array` or `multiprocessing.Value`"
   ]
  },
  {
   "cell_type": "code",
   "execution_count": 4,
   "metadata": {},
   "outputs": [
    {
     "name": "stdout",
     "output_type": "stream",
     "text": [
      "Modified array: [101   2   3   4   5]\n"
     ]
    }
   ],
   "source": [
    "# Example with Using Shared Memory\n",
    "\n",
    "from multiprocessing import Process\n",
    "from multiprocessing.shared_memory import SharedMemory\n",
    "import numpy as np\n",
    "from task import worker\n",
    "\n",
    "# Create the numpy array\n",
    "array = np.array([1, 2, 3, 4, 5,], dtype=np.int64)\n",
    "\n",
    "# Create a shared memory\n",
    "shm = SharedMemory(create=True, size=array.nbytes)\n",
    "\n",
    "# Copy the array into the shared memory\n",
    "shared_array = np.ndarray(array.shape, dtype=array.dtype, buffer=shm.buf)\n",
    "shared_array[:] = array[:]\n",
    "\n",
    "# Create and start a worker process\n",
    "p = Process(target=worker, args=(shm.name, array.shape))\n",
    "p.start()\n",
    "p.join()\n",
    "\n",
    "# Check the modified array\n",
    "print(\"Modified array:\", shared_array)\n",
    "\n",
    "\n",
    "# Cleanup\n",
    "shm.close()\n",
    "shm.unlink()"
   ]
  }
 ],
 "metadata": {
  "kernelspec": {
   "display_name": ".venv",
   "language": "python",
   "name": "python3"
  },
  "language_info": {
   "codemirror_mode": {
    "name": "ipython",
    "version": 3
   },
   "file_extension": ".py",
   "mimetype": "text/x-python",
   "name": "python",
   "nbconvert_exporter": "python",
   "pygments_lexer": "ipython3",
   "version": "3.12.0"
  }
 },
 "nbformat": 4,
 "nbformat_minor": 2
}
