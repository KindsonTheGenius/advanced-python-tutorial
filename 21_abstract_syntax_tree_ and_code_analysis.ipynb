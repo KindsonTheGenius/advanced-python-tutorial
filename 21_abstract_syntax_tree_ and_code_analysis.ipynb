{
 "cells": [
  {
   "cell_type": "markdown",
   "metadata": {},
   "source": [
    "## Abstract Syntax Tree and Code Analysis\n",
    "An Abstract Syntax Tree (AST) is a tree representation of the syntactic structure of the source code. Each node in the tree represents a construct in the code, such as expressions, statements, or declarations.\n",
    "Python's `ast` module allows parsing Python code into an AST for analysis and manipulation."
   ]
  },
  {
   "cell_type": "markdown",
   "metadata": {},
   "source": [
    "#### How ASTs Work\n",
    "When Python source code is parsed, it is first tokenize into a series of tokens, then transformed into an AST. The AST is a structured, hierarchical representation of the code, capturing its syntax without being tied to specific execution semantics. \\\n",
    "For example, the Python code:\n",
    "`x = 1 + 2` \\\n",
    "This AST representation would look like:\n",
    "* A `Module` node (root of the AST)\n",
    "* A `Assign` node for the assignemnt operation\n",
    "* A `BinOp` node for the addition operatoin.\n",
    "* `Constant` nodes for the numbers 1 and 2"
   ]
  },
  {
   "cell_type": "code",
   "execution_count": 3,
   "metadata": {},
   "outputs": [
    {
     "name": "stdout",
     "output_type": "stream",
     "text": [
      "Module(\n",
      "    body=[\n",
      "        Assign(\n",
      "            targets=[\n",
      "                Name(id='x', ctx=Store())],\n",
      "            value=BinOp(\n",
      "                left=Constant(value=1),\n",
      "                op=Add(),\n",
      "                right=Constant(value=2)))],\n",
      "    type_ignores=[])\n"
     ]
    }
   ],
   "source": [
    "# Working with the `ast` Module\n",
    "\n",
    "import ast\n",
    "\n",
    "source_code = \"x = 1 + 2\"\n",
    "parsed_ast = ast.parse(source_code)\n",
    "\n",
    "print(ast.dump(parsed_ast, indent=4))"
   ]
  },
  {
   "cell_type": "markdown",
   "metadata": {},
   "source": [
    "#### Visiting AST Nodes with `NodeVisitor`\n",
    "The `NodeVisitor` class allows traversing an AST and analyzing specific nodes.\n",
    "Let's take an example:"
   ]
  },
  {
   "cell_type": "code",
   "execution_count": 4,
   "metadata": {},
   "outputs": [
    {
     "name": "stdout",
     "output_type": "stream",
     "text": [
      "Number of function: 2\n"
     ]
    }
   ],
   "source": [
    "# Counting funtion defintions in a script:\n",
    "class FunctionCounter(ast.NodeVisitor):\n",
    "    def __init__(self):\n",
    "        self.function_count = 0\n",
    "\n",
    "    def visit_FunctionDef(self, node):\n",
    "        self.function_count += 1\n",
    "        self.generic_visit(node)\n",
    "\n",
    "\n",
    "source_code = \"\"\"\n",
    "def foo():\n",
    "    pass\n",
    "def bar():\n",
    "    pass\n",
    "\"\"\"\n",
    "\n",
    "tree = ast.parse(source_code)\n",
    "counter = FunctionCounter()\n",
    "counter.visit(tree)\n",
    "print(f\"Number of function: {counter.function_count}\")"
   ]
  },
  {
   "cell_type": "markdown",
   "metadata": {},
   "source": [
    "#### Modifying AST with NodeTransformer\n",
    "The `NodeTransformer` class allows you to modify the AST\n",
    "For example, let's replace all addition operations with multiplication\n"
   ]
  },
  {
   "cell_type": "code",
   "execution_count": 7,
   "metadata": {},
   "outputs": [
    {
     "name": "stdout",
     "output_type": "stream",
     "text": [
      "10\n"
     ]
    }
   ],
   "source": [
    "# Modify the ast replacing addition with multiplication\n",
    "\n",
    "class ReplaceAddWithMul(ast.NodeTransformer):\n",
    "    def visit_BinOp(self, node):\n",
    "        if isinstance(node.op, ast.Add):\n",
    "            node.op = ast.Mult()\n",
    "        return self.generic_visit(node)\n",
    "source_code = \"\"\"\n",
    "x = 1 + 2\n",
    "y = x + 5\n",
    "\"\"\"\n",
    "tree = ast.parse(source_code)\n",
    "transformer = ReplaceAddWithMul()\n",
    "new_tree = transformer.visit(tree)\n",
    "\n",
    "# compile and execute the modified tree\n",
    "compiled_code = compile(new_tree, filename=\"<ast>\", mode=\"exec\")\n",
    "exec(compiled_code)\n",
    "print(y)"
   ]
  },
  {
   "cell_type": "markdown",
   "metadata": {},
   "source": [
    "#### Code Analysis Using AST\n",
    "**Static Code Analysis** \\\n",
    "Tools like pylint and flake8 use the AST to analyze Python code for syntax errors, style violations or potential bugs\n",
    "\n",
    "**Custom Linters** \\\n",
    "The AST can be used to build custom linters to enforce coding standards specific to a project\n",
    "\n",
    "**Code Metrics** \\\n",
    "AST can be traversed to calculate metrics such as cyclomatic complexity, function sizes or nesting depth\n",
    "\n",
    "**Refactoring Tools** \\\n",
    "Libraries like `rope` use the AST to enable code refactoring, like renaming variables or extracting methods\n",
    "\n",
    "**Security Analysis** \\\n",
    "The AST can help identify insecure patterns, such as unsafe eval usage or unvalidated input handling"
   ]
  }
 ],
 "metadata": {
  "kernelspec": {
   "display_name": ".venv",
   "language": "python",
   "name": "python3"
  },
  "language_info": {
   "codemirror_mode": {
    "name": "ipython",
    "version": 3
   },
   "file_extension": ".py",
   "mimetype": "text/x-python",
   "name": "python",
   "nbconvert_exporter": "python",
   "pygments_lexer": "ipython3",
   "version": "3.12.0"
  }
 },
 "nbformat": 4,
 "nbformat_minor": 2
}
