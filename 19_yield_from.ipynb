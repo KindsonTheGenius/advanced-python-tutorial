{
 "cells": [
  {
   "cell_type": "markdown",
   "metadata": {},
   "source": [
    "## `yield from` in Python (Generators)\n",
    "This is a statement used to delegate part of a generator's operation to another generator, iterable or sub-iterator making the code cleaner and more readable.\n",
    "In other words, it is a genertor's equivalent of calling another function\n",
    "\n",
    "**How it Works** \\\n",
    "When a generator includes a `yield from` expression, it delegates operations to another generator or iterable. It allows the delegating generator to:\n",
    "* Yield all the values produced by the sub-generator or iterable\n",
    "* automatically handle exceptions from sent to the delegating generator\n",
    "* receive the returned value from the sub-generator (if it has one)  \\\n",
    "Consider some examples below:\n"
   ]
  },
  {
   "cell_type": "code",
   "execution_count": null,
   "metadata": {},
   "outputs": [
    {
     "name": "stdout",
     "output_type": "stream",
     "text": [
      "1\n",
      "2\n"
     ]
    }
   ],
   "source": [
    "# Basic Generator without yield from\n",
    "def sub_generator():\n",
    "    yield 1\n",
    "    yield 2\n",
    "\n",
    "def main_generator():\n",
    "    for value in sub_generator():\n",
    "        yield value\n",
    "\n",
    "for value in main_generator():\n",
    "    print(value)"
   ]
  },
  {
   "cell_type": "code",
   "execution_count": 2,
   "metadata": {},
   "outputs": [
    {
     "name": "stdout",
     "output_type": "stream",
     "text": [
      "1\n",
      "2\n"
     ]
    }
   ],
   "source": [
    "# Using Yield from\n",
    "def sub_generator1():\n",
    "    yield 1\n",
    "    yield 2\n",
    "\n",
    "def main_generator2():\n",
    "    yield from sub_generator1()\n",
    "\n",
    "for value in main_generator2():\n",
    "    print(value)"
   ]
  },
  {
   "cell_type": "markdown",
   "metadata": {},
   "source": [
    "Some practical use-cases include:\n",
    "* chaining iterators - combine multiple iterators into one single generator\n",
    "* recursive generators - recursive iteration over nested structures\n",
    "* async generators"
   ]
  },
  {
   "cell_type": "code",
   "execution_count": null,
   "metadata": {},
   "outputs": [
    {
     "name": "stdout",
     "output_type": "stream",
     "text": [
      "10\n",
      "20\n",
      "3\n",
      "4\n",
      "5\n",
      "6\n"
     ]
    }
   ],
   "source": [
    "# Example of chaining iterators\n",
    "def chain(*iterables):\n",
    "    for iterable in iterables:\n",
    "        yield from iterable\n",
    "\n",
    "for value in chain([10,20], (3,4), {5,6}):\n",
    "    print(value)"
   ]
  },
  {
   "cell_type": "code",
   "execution_count": null,
   "metadata": {},
   "outputs": [
    {
     "name": "stdout",
     "output_type": "stream",
     "text": [
      "[1, 2, 4, 5]\n"
     ]
    }
   ],
   "source": [
    "# Recursive Generators to flatten a list\n",
    "def flatten(nested):\n",
    "    for item in nested:\n",
    "        if isinstance(item, list):\n",
    "            yield from flatten(item)\n",
    "        else:\n",
    "            yield item\n",
    "\n",
    "print(list(flatten([[1,2], [4,5]])))"
   ]
  },
  {
   "cell_type": "code",
   "execution_count": null,
   "metadata": {},
   "outputs": [],
   "source": []
  }
 ],
 "metadata": {
  "kernelspec": {
   "display_name": ".venv",
   "language": "python",
   "name": "python3"
  },
  "language_info": {
   "codemirror_mode": {
    "name": "ipython",
    "version": 3
   },
   "file_extension": ".py",
   "mimetype": "text/x-python",
   "name": "python",
   "nbconvert_exporter": "python",
   "pygments_lexer": "ipython3",
   "version": "3.12.0"
  }
 },
 "nbformat": 4,
 "nbformat_minor": 2
}
