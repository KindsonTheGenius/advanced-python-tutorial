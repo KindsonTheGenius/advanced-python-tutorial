{
 "cells": [
  {
   "cell_type": "markdown",
   "metadata": {},
   "source": [
    "## Advanced Async and Wait\n",
    "Basics of Asynchronous Programming which we covered in Lesson 2 includes the use of `async` and `wait` expressions. but this time we will consider more complex patterns, optimizations  and integrations.\n",
    "We will cover the following:\n",
    "* Event Loops\n",
    "* Task Schedulling\n",
    "* Error Handling in async code\n",
    "* Using async with External Libraries\n",
    "* Synchronization with asyncio.Lock\n",
    "* asyncio Streams"
   ]
  }
 ],
 "metadata": {
  "language_info": {
   "name": "python"
  }
 },
 "nbformat": 4,
 "nbformat_minor": 2
}
