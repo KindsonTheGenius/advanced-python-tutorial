{
 "cells": [
  {
   "cell_type": "markdown",
   "metadata": {
    "vscode": {
     "languageId": "plaintext"
    }
   },
   "source": [
    "## Weak References in Python\n",
    "A Weak Reference allows Python to reference an object without preventing it from being garbage-collected. \n",
    "The `weakref` module provides tools for creating and managing weak references."
   ]
  }
 ],
 "metadata": {
  "language_info": {
   "name": "python"
  }
 },
 "nbformat": 4,
 "nbformat_minor": 2
}
