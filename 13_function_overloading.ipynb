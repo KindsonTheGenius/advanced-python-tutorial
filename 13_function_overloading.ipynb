{
 "cells": [
  {
   "cell_type": "markdown",
   "metadata": {},
   "source": [
    "## Function Overloading\n",
    "Python does not natively support funciton overloading like in C, C++ or Java. \n",
    "However, similar functionality can be achieved through the following:\n",
    "* Default Arguments\n",
    "* Variable-Length Arguments\n",
    "* Manual Overloading\n",
    "* @singledispatch Decorator"
   ]
  }
 ],
 "metadata": {
  "language_info": {
   "name": "python"
  }
 },
 "nbformat": 4,
 "nbformat_minor": 2
}
