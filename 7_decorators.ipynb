{
 "cells": [
  {
   "cell_type": "markdown",
   "metadata": {},
   "source": [
    "## Decorators in Python\n",
    "A decorator in Python is a design pattern that allows you to modify or enhance the behaviour of a function or class without changing the actual code of the function.\n",
    "It is a callable that takes a function as an argument and returns a new function with the added functionality. \\\n",
    "Before goin further, you need to understand the concept of first-class objects since functions in Python are first-class objects\n",
    "\n",
    "**First-class Objects** \\\n",
    "* a function is an instance of the Objet type\n",
    "* you can store a function in a variable\n",
    "* you can pass function as a parameter to another function\n",
    "* you can return function from a function\n",
    "* you can store them in a data structure such as hash table, list, dictionaries etc \\\n",
    "With that in mind consider the code below"
   ]
  },
  {
   "cell_type": "code",
   "execution_count": null,
   "metadata": {},
   "outputs": [],
   "source": [
    "@decorator_function\n",
    "def target_function():\n",
    "    pass\n",
    "\n",
    "# This is equivalent to\n",
    "target_function = decorator_function(target_function)\n",
    "\n",
    "# So we can say that decorator functions allow us to wrap another function in order to extend teh behaviour of the wrapped function without permanently modifying it."
   ]
  },
  {
   "cell_type": "code",
   "execution_count": null,
   "metadata": {},
   "outputs": [],
   "source": [
    "# Example of a simple decorator\n",
    "def enrich():\n",
    "    print(\"I am the decorator\")\n",
    "\n",
    "@enrich\n",
    "def say_hello():\n",
    "    print(\"Hello from normal function\")\n",
    "    enr"
   ]
  }
 ],
 "metadata": {
  "language_info": {
   "name": "python"
  }
 },
 "nbformat": 4,
 "nbformat_minor": 2
}
