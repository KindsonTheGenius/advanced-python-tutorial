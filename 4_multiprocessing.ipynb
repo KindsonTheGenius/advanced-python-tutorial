{
 "cells": [
  {
   "cell_type": "markdown",
   "metadata": {
    "vscode": {
     "languageId": "plaintext"
    }
   },
   "source": [
    "## Multiprocessing in Python\n",
    "Multiprocessing in Python allows you to crate multiple processes enabling parallel execution of tasks accross multiple CPU cores.\n",
    "Unlike threads that run in the same memory, processes have their own separate memory, making them ideal for CPU-bound tasks that require heavy computation \\\n",
    "\n",
    "**Benefits include**\n",
    "* Bypasses the Global Interpreter Lock (GIL) which allows only one thread to execute Python bytecode at a time  limiting the performance of CPU tasks\n",
    "* Spawns separate processes each with it's own Python interpreter and memory space bypassing GIL and leverating multiple CPU cores\n",
    "* Improves performance of heavy computation"
   ]
  },
  {
   "cell_type": "markdown",
   "metadata": {
    "vscode": {
     "languageId": "plaintext"
    }
   },
   "source": [
    "#### Multi-threading vs Multi-processing\n",
    "This are Python features used for CPU-bound vs I/O-bound tasks\n",
    "\n",
    "**Threading**: This is used for I/O bound tasks like I/O or network requests"
   ]
  },
  {
   "cell_type": "code",
   "execution_count": 1,
   "metadata": {},
   "outputs": [
    {
     "name": "stdout",
     "output_type": "stream",
     "text": [
      "Worker thread\n"
     ]
    }
   ],
   "source": [
    "# Multi-threading example\n",
    "import threading\n",
    "\n",
    "def worker():\n",
    "    print(\"Worker thread\")\n",
    "\n",
    "thread = threading.Thread(target=worker)\n",
    "thread.start()\n"
   ]
  },
  {
   "cell_type": "markdown",
   "metadata": {},
   "source": [
    "**Multiprocessing**: This is suitable for CPU-bound tasks\n"
   ]
  },
  {
   "cell_type": "code",
   "execution_count": 2,
   "metadata": {},
   "outputs": [],
   "source": [
    "# Multi-processing example\n",
    "from multiprocessing import Process\n",
    "\n",
    "def worker():\n",
    "    print(\"Worker process\")\n",
    "\n",
    "process = Process(target=worker)\n",
    "process.start()"
   ]
  },
  {
   "cell_type": "code",
   "execution_count": 9,
   "metadata": {},
   "outputs": [
    {
     "name": "stdout",
     "output_type": "stream",
     "text": [
      "Processes started\n"
     ]
    }
   ],
   "source": [
    "# Another multiprocessing example\n",
    "import os  # Import the os module\n",
    "from multiprocessing import Process\n",
    "\n",
    "def task(name):\n",
    "    print(f\"Task {name} running in process {os.getpid()}\", flush=True)\n",
    "\n",
    "# Create and start the process\n",
    "if __name__ == \"__main__\":\n",
    "    process1 = Process(target=task, args=(\"A\",))  # Creates a new process and passes it the argument \"A\"\n",
    "    process2 = Process(target=task, args=(\"B\",))  # Creates a new process and passes it the argument \"B\"\n",
    "\n",
    "    process1.start()  # Start the process\n",
    "    process2.start()  # Start the process\n",
    "\n",
    "    print(\"Processes started\", flush=True)\n",
    "\n",
    "    process1.join()  # Wait for the process to finish before continuing\n",
    "    process2.join()  # Wait for the process to finish before continuing\n"
   ]
  },
  {
   "cell_type": "markdown",
   "metadata": {},
   "source": [
    "### Using a Pool of Processes\n",
    "You can use a pool class to simplify creation and management of processes"
   ]
  },
  {
   "cell_type": "code",
   "execution_count": null,
   "metadata": {},
   "outputs": [],
   "source": [
    "# Example of using a Pool of processes\n",
    "from multiprocessing import Pool\n",
    "\n",
    "def square(n):\n",
    "    return n * n\n",
    "\n",
    "if __name__ == \"__main__\":\n",
    "    with Pool(4) as pool: # Create a pool with 4 worker processes\n",
    "        numbers = [1, 2, 3, 4]\n",
    "        results = pool.map(square, numbers)\n",
    "\n",
    "    print(results)"
   ]
  },
  {
   "cell_type": "markdown",
   "metadata": {},
   "source": [
    "#### Sharing Data Between Processes\n",
    "Since processes do not share memory, data used accross processes must be shared explicitly. This can be achived using a queue"
   ]
  },
  {
   "cell_type": "code",
   "execution_count": null,
   "metadata": {},
   "outputs": [],
   "source": [
    "# Sharing data using a queue\n",
    "from multiprocessing import Process, Queue\n",
    "\n",
    "def producer(queue):\n",
    "    queue.put(\"Hello from Producer\")\n",
    "\n",
    "def consumer(queue):\n",
    "    message = queue.get()\n",
    "    print(f\"Received: {message}\")\n",
    "\n",
    "if __name__ == '__main__':\n",
    "    queue = Queue()\n",
    "    p1 = Process(target=producer, args={queue,})\n",
    "    p2 = Process(target=consumer, args=(queue,))\n",
    "\n",
    "    p1.start()\n",
    "    p2.start()\n",
    "\n",
    "    p1.join()\n",
    "    p2.join()"
   ]
  }
 ],
 "metadata": {
  "kernelspec": {
   "display_name": ".venv",
   "language": "python",
   "name": "python3"
  },
  "language_info": {
   "codemirror_mode": {
    "name": "ipython",
    "version": 3
   },
   "file_extension": ".py",
   "mimetype": "text/x-python",
   "name": "python",
   "nbconvert_exporter": "python",
   "pygments_lexer": "ipython3",
   "version": "3.12.6"
  }
 },
 "nbformat": 4,
 "nbformat_minor": 2
}
