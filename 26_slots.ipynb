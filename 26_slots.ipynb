{
 "cells": [
  {
   "cell_type": "markdown",
   "metadata": {},
   "source": [
    "## Slots\n",
    "Slots in Python (`__slot__`) are used to optimize memory usage and improve performance in classes by restricting the creation of instance attributes to a predefined set.\n",
    "This is particularly useful in scenarios where memory efficiency is critical, such as applications involving a large number of objects\n",
    "\n",
    "#### How Slots Work\n",
    "1. By default, Python classes use a  dictionary (`__dict__`) to store instance attributes. This allows attributes to be dynamically added or removed at runtime. Dictionaries however consume a significant amount of memory\n",
    "2. With `__slots__`, Python does not  have to create a `__dict__` for instances. Instead, a fixed more memory-efficient structure is used to store the attribute.\n",
    "\n",
    "#### Defining Slots\n",
    "Slots are defined as tuples, lists or iterable containing the names of the attributes.\n"
   ]
  },
  {
   "cell_type": "code",
   "execution_count": null,
   "metadata": {},
   "outputs": [],
   "source": [
    "# Example of slot\n",
    "class WithoutSlots:\n",
    "    def __init__(self, a, b):\n",
    "        self.a = a\n",
    "        self.b = b\n",
    "\n",
    "class WithSlots:\n",
    "    __slots__ = ('a', 'b')\n",
    "\n",
    "    def __init__(self, a, b):\n",
    "        self.a = a\n",
    "        self.b = b\n",
    "\n",
    "obj1 = WithoutSlots(1, 2)\n",
    "obj2 = WithSlots(1,2)\n",
    "\n",
    "print(obj1.__dict__) # Shows the dictionary which stores the attributes\n",
    "print(obj2.__dict__) # Error as there is no __dict__ attributes on the instances"
   ]
  },
  {
   "cell_type": "markdown",
   "metadata": {},
   "source": [
    "#### Advantages of Slots\n",
    "**1. Reduced Memory Usage** \\\n",
    "* Eliminates the need for a per-instane __dict__\n",
    "* Memory savings are significant in scenarios involving many objects\\\n",
    "\n",
    "**2. Faster Attribute Access** \\\n",
    "* Attribute access is faster since attributes are stored in a fixed structure \\\n",
    "\n",
    "**3. Prevents Dynamic Attribute Addition** \\\n",
    "* Disallows adding attributes not listed in __slots__ making the class more predictable \\\n",
    "\n",
    "#### Limitations of Slots\n",
    "* Instances cannot have dynamic attributes unless a __dict__ entry is explicitly added\n",
    "* Slots with multiple inheritance may lead to conflicts"
   ]
  }
 ],
 "metadata": {
  "kernelspec": {
   "display_name": ".venv",
   "language": "python",
   "name": "python3"
  },
  "language_info": {
   "codemirror_mode": {
    "name": "ipython",
    "version": 3
   },
   "file_extension": ".py",
   "mimetype": "text/x-python",
   "name": "python",
   "nbconvert_exporter": "python",
   "pygments_lexer": "ipython3",
   "version": "3.12.0"
  }
 },
 "nbformat": 4,
 "nbformat_minor": 2
}
