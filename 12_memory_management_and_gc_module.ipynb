{
 "cells": [
  {
   "cell_type": "markdown",
   "metadata": {},
   "source": [
    "## Memory Management in Python\n",
    "Python manages memory automatically using reference counting and garbage collection (GC).\n",
    "These ensures efficient memory usage and prevent memory leaks\n",
    "\n",
    "#### 1. Reference Counting\n",
    "* every Python object is associated with a reference count\n",
    "* the reference count increases when a reference to the object is created and decrease when the reference is deleted\n",
    "* when the reference count drops to zero, the memory of the object is released"
   ]
  },
  {
   "cell_type": "code",
   "execution_count": 2,
   "metadata": {},
   "outputs": [
    {
     "name": "stdout",
     "output_type": "stream",
     "text": [
      "3\n"
     ]
    }
   ],
   "source": [
    "import sys\n",
    "x = [1,2,3]\n",
    "y = x\n",
    "print(sys.getrefcount(x))"
   ]
  },
  {
   "cell_type": "markdown",
   "metadata": {},
   "source": [
    "#### 2. Garbage Collection\n",
    "Python's garbage collector handles objects that cannot be freed using reference counting such as thos involve in circular references"
   ]
  },
  {
   "cell_type": "markdown",
   "metadata": {},
   "source": [
    "#### 3. Memory Pools\n",
    "* Python uses a private heap for memory management\n",
    "* a layer called Python memory manager handlels allocation and deallocation of memory\n",
    "* Smaller objects are mamanged using a specialized allocator (pymalloc)"
   ]
  },
  {
   "cell_type": "markdown",
   "metadata": {},
   "source": [
    "### The gc Module\n",
    "This provides an interface for garbage collection in Python. \n",
    "Although Python handles garbage collection automatically, the gc module allows you manually control \n",
    "garbage collection in Python. \\\n",
    "* gc.collect - run garbage collection\n",
    "* gc.enable - enables garbage collecton\n",
    "* gc.disable - disables garbage collection\n",
    "* gc.get_count() - returns count of objects tracked by the garbage collector in the three generations\n",
    "* gc.get_objects() - returns a list of objects"
   ]
  }
 ],
 "metadata": {
  "kernelspec": {
   "display_name": ".venv",
   "language": "python",
   "name": "python3"
  },
  "language_info": {
   "codemirror_mode": {
    "name": "ipython",
    "version": 3
   },
   "file_extension": ".py",
   "mimetype": "text/x-python",
   "name": "python",
   "nbconvert_exporter": "python",
   "pygments_lexer": "ipython3",
   "version": "3.12.0"
  }
 },
 "nbformat": 4,
 "nbformat_minor": 2
}
