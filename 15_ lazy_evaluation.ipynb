{
 "cells": [
  {
   "cell_type": "markdown",
   "metadata": {
    "vscode": {
     "languageId": "plaintext"
    }
   },
   "source": [
    "## Lazy Evaluation (with functools.lru_cache)\n",
    "Lazy evaluation is a technique where computations are delayed untill their results are actually needed.\n",
    "This can help improve performance a lot where heavy computations are needed\n",
    "\n",
    "Python supports lazy evaluation throught featurs like \\\n",
    "* iterators\n",
    "* generators\n",
    "* memoization technique like functools.lru_cache"
   ]
  },
  {
   "cell_type": "markdown",
   "metadata": {
    "vscode": {
     "languageId": "plaintext"
    }
   },
   "source": [
    "### Lazy Evaluation with functools.lru_cache\n",
    "This is used to cache results of a function call enabling lazy computation.\n",
    "This means that when the function is called again with the same arguments, the cached result is returned instead of recomputing or re-executing the function.\n",
    "\\\n",
    "\n",
    "**How `lru_cache` Work**\n",
    "* when a function is decorated with lru_cache, Python stores the results of the calls ina  cache\n",
    "* if the cache reaches it's size limit, the least-recently-used entries are purged\n",
    "* when the function it called, the ressult is retrieved from the cache if it exists, otherwise, it is the result is computed and stored in the cache\n"
   ]
  },
  {
   "cell_type": "code",
   "execution_count": 2,
   "metadata": {},
   "outputs": [
    {
     "name": "stdout",
     "output_type": "stream",
     "text": [
      "Runing computation...\n",
      "4\n",
      "Runing computation...\n",
      "9\n",
      "4\n"
     ]
    }
   ],
   "source": [
    "# How to use lru_cache\n",
    "from functools import lru_cache\n",
    "\n",
    "@lru_cache(maxsize=5)\n",
    "def compute_square(n):\n",
    "    print('Runing computation...')\n",
    "    return n**2\n",
    "    \n",
    "print(compute_square(2)) # computes and stores in cache\n",
    "print(compute_square(3)) # computes and store in cache\n",
    "print(compute_square(2)) # retrieve result from cache"
   ]
  },
  {
   "cell_type": "markdown",
   "metadata": {},
   "source": [
    "### Lazy Evaluation with Iterators\n",
    "Iterators are Python objects that produce items one at a time. This allows for efficient traversal of potentially infinite or large datasets without loading everything into memory. \\\n",
    "\n",
    "**How Iterators Work** \\\n",
    "* an iterator implements the __iter__() and __next__() methods\n",
    "* when the next() method is called, the iterator computes the next value lazily\n",
    "* iterators are consumed as they are used"
   ]
  },
  {
   "cell_type": "code",
   "execution_count": 16,
   "metadata": {},
   "outputs": [
    {
     "name": "stdout",
     "output_type": "stream",
     "text": [
      "1\n",
      "2\n",
      "3\n",
      "4\n",
      "5\n",
      "6\n",
      "7\n",
      "8\n",
      "9\n"
     ]
    }
   ],
   "source": [
    "## An iterator example that return between two numbers: start and end\n",
    "class MyIterator:\n",
    "\n",
    "    def __init__(self, start, end):\n",
    "        self.current = start\n",
    "        self.end = end\n",
    "\n",
    "    def __iter__(self):\n",
    "        return self\n",
    "    \n",
    "    def __next__(self):\n",
    "        if self.current >= self.end:\n",
    "            raise StopIteration\n",
    "        val = self.current\n",
    "        self.current = self.current + 1\n",
    "        return val\n",
    "    \n",
    "# Using the iterator class\n",
    "myiter = MyIterator(1,10)\n",
    "\n",
    "for num in myiter:\n",
    "    print(num)\n"
   ]
  },
  {
   "cell_type": "code",
   "execution_count": null,
   "metadata": {},
   "outputs": [
    {
     "name": "stdout",
     "output_type": "stream",
     "text": [
      "5\n",
      "[0, 1, 1, 2, 3]\n"
     ]
    }
   ],
   "source": [
    "# Return fiboacci number\n",
    "@lru_cache(maxsize=10)\n",
    "def fibonacci(n):\n",
    "    if n < 2:\n",
    "        return n\n",
    "    else:\n",
    "        return fibonacci(n-1) + fibonacci(n-2)\n",
    "\n",
    "a  = fibonacci(5)\n",
    "print(a)\n",
    "\n",
    "# Return fibonacci series\n",
    "def fibonacci_series(n):\n",
    "    fib_series = [0,1]\n",
    "    if n < 2:\n",
    "        return fib_series\n",
    "    while len(fib_series) < n:\n",
    "        fib_series.append(fib_series[-1] + fib_series[-2])\n",
    "    return fib_series\n",
    "\n",
    "print(fibonacci_series(5))\n",
    "    "
   ]
  },
  {
   "cell_type": "code",
   "execution_count": 27,
   "metadata": {},
   "outputs": [
    {
     "name": "stdout",
     "output_type": "stream",
     "text": [
      "0\n",
      "1\n",
      "1\n",
      "2\n"
     ]
    }
   ],
   "source": [
    "# Combining lru_cache with generators\n",
    "@lru_cache(maxsize=10)\n",
    "def fibonacci2(n):\n",
    "    if n < 2:\n",
    "        return n\n",
    "    return fibonacci2(n-1) + fibonacci2(n-2)\n",
    "\n",
    "#This is a generator function\n",
    "def lazy_fibonacci(count):\n",
    "    for i in range(count):\n",
    "        yield fibonacci2(i)\n",
    "\n",
    "myiter = lazy_fibonacci(4)\n",
    "\n",
    "for num in myiter:\n",
    "    print(num)"
   ]
  },
  {
   "cell_type": "markdown",
   "metadata": {},
   "source": []
  }
 ],
 "metadata": {
  "kernelspec": {
   "display_name": ".venv",
   "language": "python",
   "name": "python3"
  },
  "language_info": {
   "codemirror_mode": {
    "name": "ipython",
    "version": 3
   },
   "file_extension": ".py",
   "mimetype": "text/x-python",
   "name": "python",
   "nbconvert_exporter": "python",
   "pygments_lexer": "ipython3",
   "version": "3.12.0"
  }
 },
 "nbformat": 4,
 "nbformat_minor": 2
}
