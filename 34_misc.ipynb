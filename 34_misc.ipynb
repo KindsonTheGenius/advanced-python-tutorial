{
 "cells": [
  {
   "cell_type": "markdown",
   "metadata": {},
   "source": [
    "## Miscelaneous Advanced Topics in Python\n",
    "\n",
    "\n",
    "#### The `eval()` Function\n",
    "* eval() - the eval function is used to dynamically evaluate and execute Python expressions that are passed as strings.\n",
    "It parses the string expresion, evaluates it as Python code and returns the result.\n",
    "\n",
    "\n",
    "\n",
    "#### Handling Version Conflict \\\n",
    "How do you handle version conflicts in your requirements.txt file\n",
    "**1. Identify the Conflictin Dependencies** \\\n",
    "* Use `pip check` to see version conflicts\n",
    "* The `pip install -r requirements.txt --verbose` will show detailed log of conflicts\n",
    "* Ue tools like `pip-tools` or poetry to see detailed dependency trees\n",
    "\n",
    "**2. Examine Dependency Trees** \\\n",
    "* Use `pipdeptree` to view and identify dependency conflicts\n",
    "* Use `pip list` to show dependency and their versions\n",
    "\n",
    "**3. Resolve the Conflicts** \\\n",
    "* Manually adjust the specific versions\n",
    "* Upgrade the dependency using `pip install --upgrade package_name`\n",
    "* Use `pip tools` which provides `pip-compile` with a `requirements.in` file"
   ]
  }
 ],
 "metadata": {
  "language_info": {
   "name": "python"
  }
 },
 "nbformat": 4,
 "nbformat_minor": 2
}
