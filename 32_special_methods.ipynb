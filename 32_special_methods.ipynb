{
 "cells": [
  {
   "cell_type": "markdown",
   "metadata": {},
   "source": [
    "## Special Methods\n",
    "These are also called `magic methods` or `dunder methods` because they start and end with underscores.\n",
    "These functions provide a way to customize the behaviour of Python objects. They anable operator overloading, object initialization, representation and more. \\\n",
    "Some of the Special methods are given below \\\n",
    "\n",
    "**Object Initialization** \\\n",
    "__init__(self,...): Called when an object is instantiated\n",
    "__repr__(self): Defines the official string representation of an object\n",
    "__str__(self): Defines the user-friendly string representation\n",
    " \\\n",
    "**Arithmethic Operators** \\\n",
    "* __add__(self, other): Defines the behaviour of the + operator\n",
    "* __sub__(self, other): Defines the behaviour of the - operator\n",
    "* __mul__(self, other): Defines the behaviour of the * operator\n",
    "* other include __truediv__, __floordiv__ and __mod__\n",
    "\\\n",
    "**Comparison Operators** \\\n",
    "* __lt__(self, other)\n",
    "* __le__(self, other)\n",
    "* __eq__(self, other)\n",
    "* __ne__(self, other)\n",
    "* __gt__(self, other)\n",
    "* __ge__(self, other)\n",
    "\n",
    "**Container and Iteration Protocols** \\\n",
    "* __getitem__: access elements using obj[key]\n",
    "* __setitem__: set element value using obj[key] = value\n",
    "* __delitem__: delete element using del obj[key]\n",
    "* __iter__: defines the behaviour of an iterator\n",
    "* __next__: defines how an iterator advances"
   ]
  }
 ],
 "metadata": {
  "language_info": {
   "name": "python"
  }
 },
 "nbformat": 4,
 "nbformat_minor": 2
}
