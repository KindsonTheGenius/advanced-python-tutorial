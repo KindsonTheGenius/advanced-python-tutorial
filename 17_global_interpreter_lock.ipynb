{
 "cells": [
  {
   "cell_type": "markdown",
   "metadata": {},
   "source": [
    "## Python's Global Interpreter Lock (GIL)\n",
    "Global Interpreter Lock in Python is a mutex (mutual exclusion lock) that protects access to Python objects ensuring that only one thread executes Python bytecode at a time in CPython, the most widely used Python implementation.\n",
    "\n",
    "#### Why does GIL Exist\n",
    "* Memory Management - GIL ensures that changes to the reference counts are thread-safe\n",
    "* Easy of Implementation - It simplified CPython's design\n",
    "* Peformance Trade-offs - In single-threaded programs, GIL minimizes overhead by avoiding the need for complex thread synchronization mechanisms\n",
    "\n",
    "#### How GIL Works\n",
    "* at any given time, only one thread can execute the Pythons bytecode in a process\n",
    "* GIL is released when:\n",
    "    - a thread performs an I/O operation\n",
    "    - periodically during long-running operations\n",
    "* other threads must wait to acquire GIL before executing Python code\n"
   ]
  },
  {
   "cell_type": "markdown",
   "metadata": {},
   "source": [
    "#### Impact of the GIL\n",
    "**Multithreading Bottleneck** \\\n",
    "In multi-threaded programs, the GIL can become a bottleneck because only one thread runs Python bytecode at a time, limiting the CPU-bound multithreading \\ \n",
    "\n",
    "**I/O Bound vs CPU-bound Workloads**\n",
    "* I/O-Bound Workloads - less impacted by GIL because threads release the GIL during I/O operations\n",
    "* CPU-bound Workloads - significantly impacted because threads compete for the GIL leading to poor utilization of multi-core CPUs"
   ]
  },
  {
   "cell_type": "markdown",
   "metadata": {},
   "source": [
    "#### Workarounds for the GIL\n",
    "* Use mutiprocessing instead of multithrading\n",
    "* Offload work to C Extension - eg Numpy or SciPy\n",
    "* Use alternative Python implementation - PyPy for example\n",
    "* Divide tasks between multiple processes - use messaging systems like multiprocessing.Queue or libraries like concurrent.futures to manage inter-process communication"
   ]
  }
 ],
 "metadata": {
  "language_info": {
   "name": "python"
  }
 },
 "nbformat": 4,
 "nbformat_minor": 2
}
