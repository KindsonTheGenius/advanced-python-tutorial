{
 "cells": [
  {
   "cell_type": "markdown",
   "metadata": {},
   "source": [
    "## Observer Pattern\n",
    "This is a behavioral design pattern where an object, called the subject, maintains a list of its dependents, called observers and notifies them of any state cahnges, typically by calling one of their methods. \n",
    "It's commonly used to implement event-driven systems such as GUIs, event managers or real-time updates in applications.\n",
    "\n",
    "#### Key Components\n",
    "* Subject - maintains a list of observers, notifies observers of state changes\n",
    "* Observers - objects that are notified of changes in the subject, they observe the subject and react accordingly\n",
    "* Notification Mechanism - the subject triggers updates in its observers via a method, often called notify"
   ]
  },
  {
   "cell_type": "code",
   "execution_count": 1,
   "metadata": {},
   "outputs": [
    {
     "name": "stdout",
     "output_type": "stream",
     "text": [
      "Observer 1 received from subject: <__main__.Subject object at 0x108a8aae0>\n",
      "Observer 2 received from subject: <__main__.Subject object at 0x108a8aae0>\n"
     ]
    }
   ],
   "source": [
    "# Implementing the Observer Pattern in Python\n",
    "\n",
    "class Subject:\n",
    "    def __init__(self):\n",
    "        self._observers = [] # List of observers\n",
    "\n",
    "    def attach(self, observer):\n",
    "        # Attach an observer\n",
    "        if observer not in self._observers:\n",
    "            self._observers.append(observer)\n",
    "\n",
    "    def notify(self):\n",
    "        # Notify all observers\n",
    "        for observer in self._observers:\n",
    "            observer.update(self)\n",
    "\n",
    "class Observer:\n",
    "    def update(self, subject):\n",
    "        # React to changes in the subject\n",
    "        raise NotImplementedError(\"Subclasses must override update()\")\n",
    "\n",
    "\n",
    "class ConcreteObserver(Observer):\n",
    "    def __init__(self, name):\n",
    "        self.name = name\n",
    "\n",
    "    def update(self, subject):\n",
    "        print(f\"{self.name} received from subject: {subject}\")\n",
    "\n",
    "\n",
    "subject = Subject()\n",
    "\n",
    "observer1 = ConcreteObserver(\"Observer 1\")\n",
    "observer2 = ConcreteObserver(\"Observer 2\")\n",
    "\n",
    "subject.attach(observer1)\n",
    "subject.attach(observer2)\n",
    "\n",
    "subject.notify()"
   ]
  },
  {
   "cell_type": "markdown",
   "metadata": {},
   "source": [
    "### Applications of the Observer Pattern\n",
    "* GUI Applications\n",
    "* Real-time Data\n",
    "* Model-View-Controller\n",
    "* Event Management System"
   ]
  }
 ],
 "metadata": {
  "kernelspec": {
   "display_name": ".venv",
   "language": "python",
   "name": "python3"
  },
  "language_info": {
   "codemirror_mode": {
    "name": "ipython",
    "version": 3
   },
   "file_extension": ".py",
   "mimetype": "text/x-python",
   "name": "python",
   "nbconvert_exporter": "python",
   "pygments_lexer": "ipython3",
   "version": "3.12.0"
  }
 },
 "nbformat": 4,
 "nbformat_minor": 2
}
