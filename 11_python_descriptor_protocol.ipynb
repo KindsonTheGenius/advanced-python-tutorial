{
 "cells": [
  {
   "cell_type": "markdown",
   "metadata": {
    "vscode": {
     "languageId": "plaintext"
    }
   },
   "source": [
    "## Python Descriptor Protocol\n",
    "This is a mechanism that allows you to customize the behaviour of attribute access in objects.\n",
    "Descriptor are objects that define methods to control how their attributes are retrived, set, or deleted.\n",
    "\n",
    "**Components of a Descriptor Protocol** \\\n",
    "A descriptor class implements one or more of the following methods:\n",
    "* __get__() called when an attribute is accessed\n",
    "* __set__() called when an attribute is assigned a value\n",
    "* __delete__() called when an attribute is deleted \\\n",
    "\n",
    "**How Descriptors Work** \\\n",
    "When you access or modify an attribute on an instance, a descriptor method (if defined) is invoked"
   ]
  },
  {
   "cell_type": "code",
   "execution_count": 2,
   "metadata": {},
   "outputs": [
    {
     "name": "stdout",
     "output_type": "stream",
     "text": [
      "Setting value...\n",
      "Getting value... The owner is <class '__main__.MyClass'>. Instance is <__main__.MyClass object at 0x1118ce7b0>\n",
      "10\n",
      "Deleting value...\n"
     ]
    }
   ],
   "source": [
    "# Example of a descriptor class\n",
    "class Descriptor:\n",
    "    def __get__(self, instance, owner):\n",
    "        print(f\"Getting value... The owner is {owner}. Instance is {instance}\")\n",
    "        return instance._value\n",
    "\n",
    "    def __set__(self, instance, value):\n",
    "        print(\"Setting value...\")\n",
    "        instance._value = value\n",
    "\n",
    "    def __delete__(self, instance):\n",
    "        print(\"Deleting value...\")\n",
    "        del instance._value\n",
    "\n",
    "class MyClass:\n",
    "    attribute = Descriptor()\n",
    "\n",
    "obj = MyClass()\n",
    "obj.attribute = 10\n",
    "print(obj.attribute)\n",
    "del obj.attribute"
   ]
  }
 ],
 "metadata": {
  "kernelspec": {
   "display_name": ".venv",
   "language": "python",
   "name": "python3"
  },
  "language_info": {
   "codemirror_mode": {
    "name": "ipython",
    "version": 3
   },
   "file_extension": ".py",
   "mimetype": "text/x-python",
   "name": "python",
   "nbconvert_exporter": "python",
   "pygments_lexer": "ipython3",
   "version": "3.12.0"
  }
 },
 "nbformat": 4,
 "nbformat_minor": 2
}
