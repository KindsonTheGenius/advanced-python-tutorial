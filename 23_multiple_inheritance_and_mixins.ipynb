{
 "cells": [
  {
   "cell_type": "markdown",
   "metadata": {},
   "source": [
    "## Mulitple Inheritance\n",
    "Python supports multiple inheritance which allows classes to derive from more than one base classes inheriting their attributes and methods."
   ]
  },
  {
   "cell_type": "code",
   "execution_count": null,
   "metadata": {},
   "outputs": [
    {
     "name": "stdout",
     "output_type": "stream",
     "text": [
      "Method 1 of paren1\n",
      "Method2 a of parent 2\n"
     ]
    }
   ],
   "source": [
    "# Example\n",
    "class Parent1:\n",
    "    def method1(self):\n",
    "        print(\"Method 1 of paren 1\")\n",
    "\n",
    "class Parent2:\n",
    "    def method2(self):\n",
    "        print(\"Method2 a of parent 2\")\n",
    "\n",
    "class Child(Parent1, Parent2):\n",
    "    pass\n",
    "\n",
    "obj = Child()\n",
    "obj.method1()\n",
    "obj.method2()"
   ]
  },
  {
   "cell_type": "markdown",
   "metadata": {},
   "source": [
    "#### The Diamond Problem\n",
    "This could occur when a class inherits from multiple classes that share a common ancestor, it may lead to ambiguity in the method resolution order (MRO)."
   ]
  },
  {
   "cell_type": "code",
   "execution_count": 3,
   "metadata": {},
   "outputs": [
    {
     "name": "stdout",
     "output_type": "stream",
     "text": [
      "Method from B\n"
     ]
    }
   ],
   "source": [
    "# Example of the Diamond problem\n",
    "class A:\n",
    "    def method(self):\n",
    "        print(\"Method from A\")\n",
    "\n",
    "class B(A):\n",
    "    def method(self):\n",
    "        print(\"Method from B\")\n",
    "\n",
    "class C(A):\n",
    "    def method(self):\n",
    "        print(\"Method from C\")\n",
    "\n",
    "class D(B, C):\n",
    "    pass\n",
    "\n",
    "obj = D()\n",
    "obj.method()"
   ]
  },
  {
   "cell_type": "markdown",
   "metadata": {},
   "source": [
    "#### Mixins\n",
    "A mixin is a special kind of class that is designed to provide additional functionality to another class through multiple inheritance.\n",
    "Mixins are not meant to be standalone classes, they are usually combined with other base classes\n",
    "\n",
    "**Properties of Mixins** \\\n",
    "* they are small and focused on one specific behavior\n",
    "* they don't work independently, they require a main class to mix into\n",
    "* mixins avoid deep inheritance hierarchies, promoting modularity"
   ]
  },
  {
   "cell_type": "code",
   "execution_count": 5,
   "metadata": {},
   "outputs": [
    {
     "name": "stdout",
     "output_type": "stream",
     "text": [
      "7\n",
      "Message: Addition peformed\n"
     ]
    }
   ],
   "source": [
    "# Example of Mixin\n",
    "\n",
    "class LoginMixin:\n",
    "    def log(self, message):\n",
    "        print(f\"Message: {message}\")\n",
    "\n",
    "class Calculator:\n",
    "    def add(self, a, b):\n",
    "        return a + b\n",
    "    \n",
    "class LoggingCalculator(LoginMixin, Calculator):\n",
    "    pass\n",
    "\n",
    "obj = LoggingCalculator()\n",
    "print(obj.add(3,4))\n",
    "obj.log(\"Addition peformed\")"
   ]
  },
  {
   "cell_type": "code",
   "execution_count": 7,
   "metadata": {},
   "outputs": [
    {
     "name": "stdout",
     "output_type": "stream",
     "text": [
      "[LOG:] Application Started at: 2024-12-01 14:47:33.115622\n"
     ]
    }
   ],
   "source": [
    "## Combining multiple Mixins\n",
    "\n",
    "class TimeStampMixin:\n",
    "    def timestamp(self):\n",
    "        import datetime\n",
    "        now = datetime.datetime.now()\n",
    "        return now\n",
    "\n",
    "class LoggingMixin:\n",
    "    def log(self, message):\n",
    "        print(f\"[LOG:] {message}\")\n",
    "\n",
    "class MyClass(TimeStampMixin, LoggingMixin):\n",
    "    def run(self):\n",
    "        self.log(f\"Application Started at: {self.timestamp()}\")\n",
    "\n",
    "obj = MyClass()\n",
    "\n",
    "obj.run()\n"
   ]
  }
 ],
 "metadata": {
  "kernelspec": {
   "display_name": ".venv",
   "language": "python",
   "name": "python3"
  },
  "language_info": {
   "codemirror_mode": {
    "name": "ipython",
    "version": 3
   },
   "file_extension": ".py",
   "mimetype": "text/x-python",
   "name": "python",
   "nbconvert_exporter": "python",
   "pygments_lexer": "ipython3",
   "version": "3.12.0"
  }
 },
 "nbformat": 4,
 "nbformat_minor": 2
}
